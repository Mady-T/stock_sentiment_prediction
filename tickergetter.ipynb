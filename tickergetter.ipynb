{
 "cells": [
  {
   "cell_type": "code",
   "execution_count": 2,
   "id": "54a81d9f-41c1-44ca-b680-385a4f62b5ac",
   "metadata": {
    "tags": []
   },
   "outputs": [],
   "source": [
    "import requests\n",
    "from bs4 import BeautifulSoup"
   ]
  },
  {
   "cell_type": "code",
   "execution_count": 9,
   "id": "ef259398-f4b3-41a6-9ef4-fb8fd84c219c",
   "metadata": {
    "tags": []
   },
   "outputs": [],
   "source": [
    "def getTicker(searchterm):\n",
    "    head = {'User-Agent': 'Mozilla/5.0 (Windows NT 10.0; Win64; x64) AppleWebKit/537.36 (KHTML, like Gecko) Chrome/114.0.0.0 Safari/537.36'}\n",
    "    #searchterm = input()\n",
    "    queryurl = 'https://www.google.com/search?q='+searchterm+'+stock'\n",
    "    page = requests.get(queryurl,headers=head)\n",
    "    soup = BeautifulSoup(page.text, 'html.parser')\n",
    "    res = soup.find('div', class_=\"iAIpCb PZPZlf\")\n",
    "    if res != None:\n",
    "        return res.text.split()[1]\n",
    "    return None"
   ]
  },
  {
   "cell_type": "code",
   "execution_count": 10,
   "id": "a76696c4-63c2-4ae4-aced-09de807956f5",
   "metadata": {
    "tags": []
   },
   "outputs": [
    {
     "name": "stdout",
     "output_type": "stream",
     "text": [
      "TATAMOTORS\n"
     ]
    }
   ],
   "source": [
    "print(getTicker('Tata'))"
   ]
  },
  {
   "cell_type": "code",
   "execution_count": 11,
   "id": "a07c86a9-2b28-418b-9943-b2c946fe9e49",
   "metadata": {
    "tags": []
   },
   "outputs": [],
   "source": [
    "with open('test.html', \"wb+\") as f:\n",
    "    f.write(page.content)"
   ]
  },
  {
   "cell_type": "code",
   "execution_count": null,
   "id": "351ce7cd-e149-47ca-9be8-0a05f03ab2d3",
   "metadata": {},
   "outputs": [],
   "source": []
  }
 ],
 "metadata": {
  "kernelspec": {
   "display_name": "Python 3 (ipykernel)",
   "language": "python",
   "name": "python3"
  },
  "language_info": {
   "codemirror_mode": {
    "name": "ipython",
    "version": 3
   },
   "file_extension": ".py",
   "mimetype": "text/x-python",
   "name": "python",
   "nbconvert_exporter": "python",
   "pygments_lexer": "ipython3",
   "version": "3.11.3"
  }
 },
 "nbformat": 4,
 "nbformat_minor": 5
}
