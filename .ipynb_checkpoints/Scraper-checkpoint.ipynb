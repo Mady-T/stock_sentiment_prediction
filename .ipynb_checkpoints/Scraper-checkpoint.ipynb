{
 "cells": [
  {
   "cell_type": "code",
   "execution_count": 1,
   "id": "ef6d1b13-97af-44ed-a268-3c838eca1438",
   "metadata": {
    "tags": []
   },
   "outputs": [],
   "source": [
    "import requests\n",
    "from bs4 import BeautifulSoup\n",
    "from datetime import date, timedelta\n",
    "from time import sleep\n",
    "from random import random\n",
    "from os.path import exists"
   ]
  },
  {
   "cell_type": "code",
   "execution_count": 2,
   "id": "a659bb39-28cf-457d-a8e5-227864d90780",
   "metadata": {
    "tags": []
   },
   "outputs": [],
   "source": [
    "head = {'User-Agent': 'Mozilla/5.0 (Windows NT 10.0; Win64; x64) AppleWebKit/537.36 (KHTML, like Gecko) Chrome/114.0.0.0 Safari/537.36'}"
   ]
  },
  {
   "cell_type": "code",
   "execution_count": 3,
   "id": "7f75c0c8-2cd6-44ac-968a-fac0bac21bbd",
   "metadata": {
    "tags": []
   },
   "outputs": [
    {
     "name": "stdout",
     "output_type": "stream",
     "text": [
      "2023-06-11\n"
     ]
    }
   ],
   "source": [
    "today = date.today()\n",
    "oneday = timedelta(days=1)\n",
    "print(today)\n"
   ]
  },
  {
   "cell_type": "code",
   "execution_count": 5,
   "id": "4d8bf971-1816-4d14-8e8b-b28882b68d5a",
   "metadata": {
    "tags": []
   },
   "outputs": [],
   "source": [
    "day = today + oneday\n",
    "for i in range(3*365):\n",
    "    day = day - oneday\n",
    "    url = \"https://www.wsj.com/news/archive/\"+str(day.year)+'/'+str(day.month)+'/'+str(day.day)\n",
    "    fileurl = 'wsj/'+str(day)+'.html'\n",
    "    if not exists(fileurl):\n",
    "        html = requests.get(url, headers = head)\n",
    "        try:\n",
    "            html.raise_for_status()\n",
    "            with open(fileurl, 'wb+') as f:\n",
    "                f.write(html.content)\n",
    "            sleep(0.5+random())\n",
    "        except:\n",
    "            print('failed at: '+str(day))\n"
   ]
  },
  {
   "cell_type": "code",
   "execution_count": 55,
   "id": "e7a4271d-37e9-4d1d-b309-d151ccefad37",
   "metadata": {
    "tags": []
   },
   "outputs": [],
   "source": [
    "with open('wsj/'+str(day)+'.html', 'rb') as f:\n",
    "    html = f.read()\n",
    "    soup = BeautifulSoup(html, 'html.parser')\n",
    "    main = soup.find_all('span', class_='WSJTheme--headlineText--He1ANr9C')\n",
    "\n"
   ]
  },
  {
   "cell_type": "code",
   "execution_count": 56,
   "id": "8ac86bbc-7262-42f2-8a8d-55a80d20c42b",
   "metadata": {
    "tags": []
   },
   "outputs": [
    {
     "name": "stdout",
     "output_type": "stream",
     "text": [
      "Biden Selects Trottenberg as Interim FAA Chief\n",
      "Racial Gerrymandering by Supreme Court Order\n",
      "Louisiana Passes Bill Requiring Minors to Get Parent’s Permission for Social-Media Accounts\n",
      "Porsche 911 Reimagined by Singer: Posher Than Ever\n",
      "Don’t Count a Third Party Out in 2024\n",
      "Mike Pence’s Political Education \n",
      "China Sets Up a Spy Shop in Cuba\n",
      "A Smoke Signal on Forest-Fire Management\n",
      "Killing America’s Critical Minerals\n",
      "The GOP Gets to Vote Harvesting\n",
      "Saudi Arabia’s Mohammed bin Salman Gambles With Modernity\n",
      "Somebody Needs to ‘Bug’ Donald Trump\n",
      "‘Jessica Lange’ Review: More Than Just ‘The Wife’\n",
      "Democrats Can’t Count on Asian-American Voters\n",
      "Notable & Quotable: What Causes Forest Fires\n",
      "Ukraine Targets Russian Lines, as Counteroffensive Gathers Pace\n",
      "White House Covid-19 Czar Ashish Jha to Leave Post\n",
      "‘Days of Wine and Roses’ Review: The Intoxicating Decline of a Marriage\n",
      "‘It’s Not My Responsibility’ to Save the Office Economy\n",
      "Smoky Conditions to Last for Days as Canada Wildfires Rage\n",
      "DocuSign Shares Climb With Turnaround Efforts Under Way\n",
      "‘Transformers: Rise of the Beasts’ Review: A Robotic Return\n",
      "Bank of Canada’s Beaudry Sees Signs of New Era of Higher Interest Rates\n",
      "Engineers Weigh In on Possible Causes of Ukraine Dam Collapse\n",
      "Carvana Shares Jump More Than 50% as Company’s Profit Outlook Improves\n",
      "Cuba to Host Secret China Spy Base Focusing on U.S.\n",
      "‘Squaring the Circle (The Story of Hipgnosis)’ Review: Judging an Album by Its Cover\n",
      "GM EV Owners to Tap Tesla’s Supercharger Network\n",
      "‘Brooklyn 45’ Review: Historical and Supernatural Horrors\n",
      "Should You Really Order the Second-Cheapest Wine?\n",
      "‘Pride’: From a Norman Boast to a Gay Badge of Honor\n",
      "Supreme Court Blocks GOP-Drawn Alabama Voting Map\n",
      "Americans Still Agree with Alexander Hamilton\n",
      "Friends Dropping By in 15 Minutes? Prep Your Place Pronto With These 12 Ideas\n",
      "IRS Says Many Taxpayers Can Ignore Notices Demanding Payment\n",
      "What a ‘Clean Room’ Is and Why You Need One When the Air Is Bad\n",
      "‘War for Talent’ at Mines Could Drive Up Cost of Energy Transition\n",
      "S&P Enters Bull Market as Big Tech Lifts Stocks\n",
      "No Unilateral Disarmament in the Culture War\n",
      "The Medicare Cost Complex\n",
      "Airport Tips for Stressed Parents—and Kids\n",
      "Racial Preferences by Proxy? An Old Story Is New Again\n",
      "In Contempt of ‘Contempt of Congress’\n",
      "‘Structural Barriers’ in Education? Try School Choice\n",
      "Heads and Tails (Friday Crossword, June 9)\n",
      "Circle Hires Former CFTC Chairman Heath Tarbert as Legal Chief\n",
      "Recycling and Regulation Are Hot Issues in Likely Update to U.S. Sustainable Marketing Guides\n",
      "Wildfire Smoke Boosts N95 Mask Demand\n",
      "GameStop’s Silence Is No Longer Golden\n",
      "Homicides Are Falling in Major American Cities\n"
     ]
    }
   ],
   "source": [
    "for elem in main:\n",
    "    print(elem.text)"
   ]
  },
  {
   "cell_type": "code",
   "execution_count": null,
   "id": "f49eecfd-b9a4-447f-82b0-5a30d7011a84",
   "metadata": {},
   "outputs": [],
   "source": []
  }
 ],
 "metadata": {
  "kernelspec": {
   "display_name": "Python 3 (ipykernel)",
   "language": "python",
   "name": "python3"
  },
  "language_info": {
   "codemirror_mode": {
    "name": "ipython",
    "version": 3
   },
   "file_extension": ".py",
   "mimetype": "text/x-python",
   "name": "python",
   "nbconvert_exporter": "python",
   "pygments_lexer": "ipython3",
   "version": "3.11.3"
  }
 },
 "nbformat": 4,
 "nbformat_minor": 5
}
