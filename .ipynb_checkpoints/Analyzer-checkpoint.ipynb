{
 "cells": [
  {
   "cell_type": "code",
   "execution_count": 56,
   "id": "db374fda-3ab4-499a-a189-07a29c05df81",
   "metadata": {
    "tags": []
   },
   "outputs": [],
   "source": [
    "from bs4 import BeautifulSoup\n",
    "from datetime import date, timedelta\n",
    "from os.path import exists\n",
    "from vaderSentiment.vaderSentiment import SentimentIntensityAnalyzer\n",
    "import pandas as pd"
   ]
  },
  {
   "cell_type": "code",
   "execution_count": 2,
   "id": "0840cfc9-ee0a-48eb-82a1-6eb515e45750",
   "metadata": {
    "tags": []
   },
   "outputs": [
    {
     "name": "stdout",
     "output_type": "stream",
     "text": [
      "2023-06-11\n"
     ]
    }
   ],
   "source": [
    "today = date.today()\n",
    "oneday = timedelta(days=1)\n",
    "print(today)"
   ]
  },
  {
   "cell_type": "code",
   "execution_count": 16,
   "id": "df583ccb-6def-4038-8957-29c348f89f56",
   "metadata": {
    "tags": []
   },
   "outputs": [],
   "source": [
    "analyzer = SentimentIntensityAnalyzer()"
   ]
  },
  {
   "cell_type": "code",
   "execution_count": 18,
   "id": "af8d7c54-5dcf-4124-8f60-cc587e481010",
   "metadata": {
    "tags": []
   },
   "outputs": [
    {
     "name": "stdin",
     "output_type": "stream",
     "text": [
      " apple\n"
     ]
    }
   ],
   "source": [
    "searchterm = input().casefold()"
   ]
  },
  {
   "cell_type": "code",
   "execution_count": null,
   "id": "69a941ff-7781-4efd-aad3-35a9508edc65",
   "metadata": {
    "tags": []
   },
   "outputs": [],
   "source": [
    "day = today+oneday\n",
    "day_score_list = list()\n",
    "search_score_list = list()\n",
    "score_df = pd.DataFrame(columns = ['Overall','Term','Date']).set_index('Date')\n",
    "for i in range(3*365):    \n",
    "    day = day - oneday\n",
    "    fileurl = 'wsj/'+str(day)+'.html'\n",
    "    if exists(fileurl):\n",
    "        with open(fileurl, 'rb') as f:\n",
    "            html = f.read()\n",
    "        soup = BeautifulSoup(html, 'html.parser')\n",
    "        artlist = soup.find_all('span', class_='WSJTheme--headlineText--He1ANr9C')\n",
    "        day_score = 0\n",
    "        search_score = 0\n",
    "        num_matches = 0\n",
    "        for art in artlist:\n",
    "            score = analyzer.polarity_scores(art.text)['compound']\n",
    "            day_score += score\n",
    "            if searchterm in art.text.casefold():\n",
    "                search_score += score\n",
    "                num_matches += 1\n",
    "            #print(art.text, analyzer.polarity_scores(art.text)['compound'])\n",
    "        if artlist:\n",
    "            day_score/=len(artlist)\n",
    "        if num_matches != 0:\n",
    "            search_score/=num_matches\n",
    "        score_df.loc[pd.to_datetime(day)] = [day_score, search_score]\n",
    "    else:\n",
    "        print(\"Out of bounds\")\n",
    "    \n",
    "        "
   ]
  },
  {
   "cell_type": "code",
   "execution_count": 50,
   "id": "72e9e9db-eea6-41ca-8f79-c4c1a0f18c3c",
   "metadata": {
    "tags": []
   },
   "outputs": [
    {
     "data": {
      "text/html": [
       "<div>\n",
       "<style scoped>\n",
       "    .dataframe tbody tr th:only-of-type {\n",
       "        vertical-align: middle;\n",
       "    }\n",
       "\n",
       "    .dataframe tbody tr th {\n",
       "        vertical-align: top;\n",
       "    }\n",
       "\n",
       "    .dataframe thead th {\n",
       "        text-align: right;\n",
       "    }\n",
       "</style>\n",
       "<table border=\"1\" class=\"dataframe\">\n",
       "  <thead>\n",
       "    <tr style=\"text-align: right;\">\n",
       "      <th></th>\n",
       "      <th>Overall</th>\n",
       "      <th>Term</th>\n",
       "    </tr>\n",
       "    <tr>\n",
       "      <th>Date</th>\n",
       "      <th></th>\n",
       "      <th></th>\n",
       "    </tr>\n",
       "  </thead>\n",
       "  <tbody>\n",
       "    <tr>\n",
       "      <th>2023-06-11</th>\n",
       "      <td>-0.102200</td>\n",
       "      <td>0.000</td>\n",
       "    </tr>\n",
       "    <tr>\n",
       "      <th>2023-06-10</th>\n",
       "      <td>-0.024642</td>\n",
       "      <td>0.000</td>\n",
       "    </tr>\n",
       "    <tr>\n",
       "      <th>2023-06-09</th>\n",
       "      <td>-0.055984</td>\n",
       "      <td>0.000</td>\n",
       "    </tr>\n",
       "    <tr>\n",
       "      <th>2023-06-08</th>\n",
       "      <td>-0.005754</td>\n",
       "      <td>0.000</td>\n",
       "    </tr>\n",
       "    <tr>\n",
       "      <th>2023-06-07</th>\n",
       "      <td>-0.013828</td>\n",
       "      <td>0.000</td>\n",
       "    </tr>\n",
       "    <tr>\n",
       "      <th>2023-06-06</th>\n",
       "      <td>-0.019560</td>\n",
       "      <td>0.125</td>\n",
       "    </tr>\n",
       "    <tr>\n",
       "      <th>2023-06-05</th>\n",
       "      <td>0.032438</td>\n",
       "      <td>0.250</td>\n",
       "    </tr>\n",
       "    <tr>\n",
       "      <th>2023-06-04</th>\n",
       "      <td>-0.076272</td>\n",
       "      <td>-0.296</td>\n",
       "    </tr>\n",
       "    <tr>\n",
       "      <th>2023-06-03</th>\n",
       "      <td>0.081361</td>\n",
       "      <td>0.000</td>\n",
       "    </tr>\n",
       "    <tr>\n",
       "      <th>2023-06-02</th>\n",
       "      <td>-0.032796</td>\n",
       "      <td>0.000</td>\n",
       "    </tr>\n",
       "  </tbody>\n",
       "</table>\n",
       "</div>"
      ],
      "text/plain": [
       "             Overall   Term\n",
       "Date                       \n",
       "2023-06-11 -0.102200  0.000\n",
       "2023-06-10 -0.024642  0.000\n",
       "2023-06-09 -0.055984  0.000\n",
       "2023-06-08 -0.005754  0.000\n",
       "2023-06-07 -0.013828  0.000\n",
       "2023-06-06 -0.019560  0.125\n",
       "2023-06-05  0.032438  0.250\n",
       "2023-06-04 -0.076272 -0.296\n",
       "2023-06-03  0.081361  0.000\n",
       "2023-06-02 -0.032796  0.000"
      ]
     },
     "execution_count": 50,
     "metadata": {},
     "output_type": "execute_result"
    }
   ],
   "source": [
    "score_df"
   ]
  },
  {
   "cell_type": "code",
   "execution_count": 24,
   "id": "c4c2fadd-a2b9-498b-aea4-5901fe7ac429",
   "metadata": {
    "tags": []
   },
   "outputs": [
    {
     "data": {
      "text/plain": [
       "0.0"
      ]
     },
     "execution_count": 24,
     "metadata": {},
     "output_type": "execute_result"
    }
   ],
   "source": [
    "search_score"
   ]
  },
  {
   "cell_type": "code",
   "execution_count": 25,
   "id": "69f2dc3e-72e4-4a20-80d3-8af0e5f034de",
   "metadata": {
    "tags": []
   },
   "outputs": [
    {
     "data": {
      "text/plain": [
       "'2023-06-11'"
      ]
     },
     "execution_count": 25,
     "metadata": {},
     "output_type": "execute_result"
    }
   ],
   "source": [
    "str(today)"
   ]
  },
  {
   "cell_type": "code",
   "execution_count": 26,
   "id": "d6bfc936-a338-41db-b84e-75aaf4e97f14",
   "metadata": {
    "tags": []
   },
   "outputs": [
    {
     "data": {
      "text/plain": [
       "datetime.date"
      ]
     },
     "execution_count": 26,
     "metadata": {},
     "output_type": "execute_result"
    }
   ],
   "source": [
    "type(today)"
   ]
  },
  {
   "cell_type": "code",
   "execution_count": 41,
   "id": "278354e2-d8ec-42e5-80f1-99de65877455",
   "metadata": {
    "tags": []
   },
   "outputs": [],
   "source": [
    "df = pd.DataFrame(columns = ['Dates'], index = ['date'])\n",
    "df['Dates'] = today"
   ]
  },
  {
   "cell_type": "code",
   "execution_count": 42,
   "id": "44a426b8-050b-4404-816e-e2bdffd9c447",
   "metadata": {
    "tags": []
   },
   "outputs": [
    {
     "data": {
      "text/html": [
       "<div>\n",
       "<style scoped>\n",
       "    .dataframe tbody tr th:only-of-type {\n",
       "        vertical-align: middle;\n",
       "    }\n",
       "\n",
       "    .dataframe tbody tr th {\n",
       "        vertical-align: top;\n",
       "    }\n",
       "\n",
       "    .dataframe thead th {\n",
       "        text-align: right;\n",
       "    }\n",
       "</style>\n",
       "<table border=\"1\" class=\"dataframe\">\n",
       "  <thead>\n",
       "    <tr style=\"text-align: right;\">\n",
       "      <th></th>\n",
       "      <th>Dates</th>\n",
       "    </tr>\n",
       "  </thead>\n",
       "  <tbody>\n",
       "    <tr>\n",
       "      <th>date</th>\n",
       "      <td>2023-06-11</td>\n",
       "    </tr>\n",
       "  </tbody>\n",
       "</table>\n",
       "</div>"
      ],
      "text/plain": [
       "           Dates\n",
       "date  2023-06-11"
      ]
     },
     "execution_count": 42,
     "metadata": {},
     "output_type": "execute_result"
    }
   ],
   "source": [
    "df"
   ]
  },
  {
   "cell_type": "code",
   "execution_count": 43,
   "id": "e53a449f-5482-40fc-bb01-325795e2f93d",
   "metadata": {
    "tags": []
   },
   "outputs": [
    {
     "data": {
      "text/plain": [
       "date    2023-06-11\n",
       "Name: Dates, dtype: object"
      ]
     },
     "execution_count": 43,
     "metadata": {},
     "output_type": "execute_result"
    }
   ],
   "source": [
    "df['Dates']"
   ]
  },
  {
   "cell_type": "code",
   "execution_count": null,
   "id": "02c2bb8e-f41b-4389-bdc6-5b4e3469349b",
   "metadata": {},
   "outputs": [],
   "source": []
  }
 ],
 "metadata": {
  "kernelspec": {
   "display_name": "Python 3 (ipykernel)",
   "language": "python",
   "name": "python3"
  },
  "language_info": {
   "codemirror_mode": {
    "name": "ipython",
    "version": 3
   },
   "file_extension": ".py",
   "mimetype": "text/x-python",
   "name": "python",
   "nbconvert_exporter": "python",
   "pygments_lexer": "ipython3",
   "version": "3.11.3"
  }
 },
 "nbformat": 4,
 "nbformat_minor": 5
}
