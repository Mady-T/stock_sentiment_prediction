{
 "cells": [
  {
   "cell_type": "code",
   "execution_count": 9,
   "metadata": {
    "id": "hENHo3YzjOnV",
    "tags": []
   },
   "outputs": [],
   "source": [
    "from sklearn.preprocessing import MinMaxScaler, StandardScaler\n",
    "import numpy as np\n",
    "import pandas as pd\n",
    "from keras.models import Sequential\n",
    "from keras.layers import Dense\n",
    "from keras.layers import LSTM\n",
    "from keras.layers import Dropout\n",
    "import yfinance as yf\n",
    "from matplotlib import pyplot as plt\n",
    "import seaborn as sns\n",
    "import copy\n",
    "import requests\n",
    "from bs4 import BeautifulSoup\n",
    "from datetime import date, timedelta\n",
    "from time import sleep\n",
    "from random import random\n",
    "from os.path import exists\n",
    "from vaderSentiment.vaderSentiment import SentimentIntensityAnalyzer\n",
    "# from keras.preprocessing.sequence import TimeseriesGenerator\n",
    "# from datetime import timedelta"
   ]
  },
  {
   "cell_type": "code",
   "execution_count": 6,
   "metadata": {
    "tags": []
   },
   "outputs": [
    {
     "name": "stdout",
     "output_type": "stream",
     "text": [
      "2023-06-12\n"
     ]
    }
   ],
   "source": [
    "head = {'User-Agent': 'Mozilla/5.0 (Windows NT 10.0; Win64; x64) AppleWebKit/537.36 (KHTML, like Gecko) Chrome/114.0.0.0 Safari/537.36'}\n",
    "today = date.today()\n",
    "oneday = timedelta(days=1)\n",
    "print(today)"
   ]
  },
  {
   "cell_type": "code",
   "execution_count": 7,
   "metadata": {
    "tags": []
   },
   "outputs": [],
   "source": [
    "day = today + oneday\n",
    "for i in range(3*365):\n",
    "    day = day - oneday\n",
    "    url = \"https://www.wsj.com/news/archive/\"+str(day.year)+'/'+str(day.month)+'/'+str(day.day)\n",
    "    fileurl = 'wsj/'+str(day)+'.html'\n",
    "    if not exists(fileurl):\n",
    "        html = requests.get(url, headers = head)\n",
    "        try:\n",
    "            html.raise_for_status()\n",
    "            with open(fileurl, 'wb+') as f:\n",
    "                f.write(html.content)\n",
    "            sleep(0.5+random())\n",
    "        except:\n",
    "            print('failed at: '+str(day))"
   ]
  },
  {
   "cell_type": "code",
   "execution_count": 10,
   "metadata": {
    "tags": []
   },
   "outputs": [
    {
     "name": "stdin",
     "output_type": "stream",
     "text": [
      " google\n"
     ]
    }
   ],
   "source": [
    "analyzer = SentimentIntensityAnalyzer()\n",
    "searchterm = input().casefold()"
   ]
  },
  {
   "cell_type": "code",
   "execution_count": 12,
   "metadata": {
    "tags": []
   },
   "outputs": [
    {
     "name": "stdout",
     "output_type": "stream",
     "text": [
      "Progress:  0\n",
      "Progress:  100\n",
      "Progress:  200\n",
      "Progress:  300\n",
      "Progress:  400\n",
      "Progress:  500\n",
      "Progress:  600\n",
      "Progress:  700\n",
      "Progress:  800\n",
      "Progress:  900\n",
      "Progress:  1000\n"
     ]
    }
   ],
   "source": [
    "day = today+oneday\n",
    "score_df = pd.DataFrame(columns = ['Overall','Term','Date']).set_index('Date')\n",
    "for i in range(3*365):\n",
    "    if i%100 == 0:\n",
    "        print('Progress: ', i)\n",
    "    day = day - oneday\n",
    "    fileurl = 'wsj/'+str(day)+'.html'\n",
    "    if exists(fileurl):\n",
    "        with open(fileurl, 'rb') as f:\n",
    "            html = f.read()\n",
    "        soup = BeautifulSoup(html, 'html.parser')\n",
    "        artlist = soup.find_all('span', class_='WSJTheme--headlineText--He1ANr9C')\n",
    "        day_score = 0\n",
    "        search_score = 0\n",
    "        num_matches = 0\n",
    "        for art in artlist:\n",
    "            score = analyzer.polarity_scores(art.text)['compound']\n",
    "            day_score += score\n",
    "            if searchterm in art.text.casefold():\n",
    "                search_score += score\n",
    "                num_matches += 1\n",
    "            #print(art.text, analyzer.polarity_scores(art.text)['compound'])\n",
    "        if artlist:\n",
    "            day_score/=len(artlist)\n",
    "        if num_matches != 0:\n",
    "            search_score/=num_matches\n",
    "        score_df.loc[pd.to_datetime(day)] = [day_score, search_score]\n",
    "    else:\n",
    "        print(\"Out of bounds\")"
   ]
  },
  {
   "cell_type": "code",
   "execution_count": 13,
   "metadata": {
    "tags": []
   },
   "outputs": [],
   "source": [
    "def getTicker(searchterm):\n",
    "    head = {'User-Agent': 'Mozilla/5.0 (Windows NT 10.0; Win64; x64) AppleWebKit/537.36 (KHTML, like Gecko) Chrome/114.0.0.0 Safari/537.36'}\n",
    "    #searchterm = input()\n",
    "    queryurl = 'https://www.google.com/search?q='+searchterm+'+stock'\n",
    "    page = requests.get(queryurl,headers=head)\n",
    "    soup = BeautifulSoup(page.text, 'html.parser')\n",
    "    res = soup.find('div', class_=\"iAIpCb PZPZlf\")\n",
    "    if res != None:\n",
    "        return res.text.split()[1]\n",
    "    return None"
   ]
  },
  {
   "cell_type": "code",
   "execution_count": 14,
   "metadata": {
    "id": "lLap4dTBjX6n",
    "tags": []
   },
   "outputs": [],
   "source": [
    "stock = yf.Ticker(getTicker(searchterm))\n",
    "stock_df = stock.history(period=\"3y\")"
   ]
  },
  {
   "cell_type": "code",
   "execution_count": 63,
   "metadata": {
    "colab": {
     "base_uri": "https://localhost:8080/",
     "height": 421
    },
    "id": "P9-lN0jHk246",
    "outputId": "b1094308-a16a-4aa6-8769-998589aeceab",
    "tags": []
   },
   "outputs": [
    {
     "name": "stdout",
     "output_type": "stream",
     "text": [
      "                 Open       High        Low      Close\n",
      "Date                                                  \n",
      "2020-06-26  71.631500  71.850998  67.750000  68.126999\n",
      "2020-06-29  68.016998  69.900002  67.582497  69.858498\n",
      "2020-06-30  69.844002  71.199997  69.346497  70.902496\n",
      "2020-07-01  70.958504  72.424004  70.709000  72.099998\n",
      "2020-07-02  72.592003  74.426003  72.553497  73.496498\n"
     ]
    },
    {
     "data": {
      "text/html": [
       "<div>\n",
       "<style scoped>\n",
       "    .dataframe tbody tr th:only-of-type {\n",
       "        vertical-align: middle;\n",
       "    }\n",
       "\n",
       "    .dataframe tbody tr th {\n",
       "        vertical-align: top;\n",
       "    }\n",
       "\n",
       "    .dataframe thead th {\n",
       "        text-align: right;\n",
       "    }\n",
       "</style>\n",
       "<table border=\"1\" class=\"dataframe\">\n",
       "  <thead>\n",
       "    <tr style=\"text-align: right;\">\n",
       "      <th></th>\n",
       "      <th>Open</th>\n",
       "      <th>High</th>\n",
       "      <th>Low</th>\n",
       "      <th>Close</th>\n",
       "    </tr>\n",
       "  </thead>\n",
       "  <tbody>\n",
       "    <tr>\n",
       "      <th>count</th>\n",
       "      <td>744.000000</td>\n",
       "      <td>744.000000</td>\n",
       "      <td>744.000000</td>\n",
       "      <td>744.000000</td>\n",
       "    </tr>\n",
       "    <tr>\n",
       "      <th>mean</th>\n",
       "      <td>110.104456</td>\n",
       "      <td>111.433616</td>\n",
       "      <td>108.849120</td>\n",
       "      <td>110.159308</td>\n",
       "    </tr>\n",
       "    <tr>\n",
       "      <th>std</th>\n",
       "      <td>21.709208</td>\n",
       "      <td>21.753757</td>\n",
       "      <td>21.494115</td>\n",
       "      <td>21.620722</td>\n",
       "    </tr>\n",
       "    <tr>\n",
       "      <th>min</th>\n",
       "      <td>68.016998</td>\n",
       "      <td>69.900002</td>\n",
       "      <td>67.582497</td>\n",
       "      <td>68.126999</td>\n",
       "    </tr>\n",
       "    <tr>\n",
       "      <th>25%</th>\n",
       "      <td>92.539999</td>\n",
       "      <td>94.335001</td>\n",
       "      <td>91.610001</td>\n",
       "      <td>92.787502</td>\n",
       "    </tr>\n",
       "    <tr>\n",
       "      <th>50%</th>\n",
       "      <td>108.160000</td>\n",
       "      <td>110.474998</td>\n",
       "      <td>106.869999</td>\n",
       "      <td>108.803753</td>\n",
       "    </tr>\n",
       "    <tr>\n",
       "      <th>75%</th>\n",
       "      <td>127.729624</td>\n",
       "      <td>129.915504</td>\n",
       "      <td>126.210249</td>\n",
       "      <td>127.393375</td>\n",
       "    </tr>\n",
       "    <tr>\n",
       "      <th>max</th>\n",
       "      <td>151.250000</td>\n",
       "      <td>151.546494</td>\n",
       "      <td>148.899002</td>\n",
       "      <td>149.838501</td>\n",
       "    </tr>\n",
       "  </tbody>\n",
       "</table>\n",
       "</div>"
      ],
      "text/plain": [
       "             Open        High         Low       Close\n",
       "count  744.000000  744.000000  744.000000  744.000000\n",
       "mean   110.104456  111.433616  108.849120  110.159308\n",
       "std     21.709208   21.753757   21.494115   21.620722\n",
       "min     68.016998   69.900002   67.582497   68.126999\n",
       "25%     92.539999   94.335001   91.610001   92.787502\n",
       "50%    108.160000  110.474998  106.869999  108.803753\n",
       "75%    127.729624  129.915504  126.210249  127.393375\n",
       "max    151.250000  151.546494  148.899002  149.838501"
      ]
     },
     "execution_count": 63,
     "metadata": {},
     "output_type": "execute_result"
    }
   ],
   "source": [
    "stock_df = stock_df.loc[:,['Open', 'High', 'Low', 'Close']]\n",
    "stock_df.index = stock_df.index.tz_localize(None)\n",
    "\n",
    "print(stock_df.head())\n",
    "stock_df.describe()"
   ]
  },
  {
   "cell_type": "code",
   "execution_count": 64,
   "metadata": {
    "id": "uoHtaGR_eX1G",
    "tags": []
   },
   "outputs": [
    {
     "data": {
      "text/plain": [
       "False"
      ]
     },
     "execution_count": 64,
     "metadata": {},
     "output_type": "execute_result"
    }
   ],
   "source": [
    "# def create_sequence(dataset):\n",
    "#     sequences = []\n",
    "#     labels = []\n",
    "#     start_idx = 0\n",
    "#     for stop_idx in range(30, len(dataset)):\n",
    "#         sequences.append(dataset.loc[start_idx:stop_idx])\n",
    "#         labels.append(dataset.loc[stop_idx])\n",
    "#         start_idx += 1\n",
    "#     return np.array(sequences), np.array(labels)\n",
    "stock_df.isnull().values.any()"
   ]
  },
  {
   "cell_type": "code",
   "execution_count": 109,
   "metadata": {
    "id": "nCGLxruDor5A",
    "tags": []
   },
   "outputs": [],
   "source": [
    "def stockpipe(df, given_size=None):\n",
    "    Scaler = StandardScaler()\n",
    "    scaled_df = Scaler.fit_transform(df)\n",
    "\n",
    "\n",
    "    interval = 30\n",
    "\n",
    "    df = pd.DataFrame(scaled_df, columns = df.columns, index=df.index.tz_localize(None))\n",
    "    #print(\"Scaled Dataframe: \\n\",df)\n",
    "    stock_columns = df.columns\n",
    "    date_index = df.index\n",
    "\n",
    "    # Martin's shenanigans!:\n",
    "    # Scaler2 = StandardScaler()\n",
    "    # scaled_score = Scaler2.fit_transform(score_df)\n",
    "    # scaled_score = pd.DataFrame(scaled_score, columns = score_df.columns, index = score_df.index)\n",
    "    \n",
    "    # df = df.join(scaled_score['Term'])\n",
    "    df = df.join(score_df['Term'])\n",
    "    df = df.iloc[3:]\n",
    "\n",
    "    df.reset_index(drop=True, inplace=True)\n",
    "\n",
    "    sequences = []\n",
    "    labels = []\n",
    "    start_idx = 0\n",
    "    for stop_idx in range(interval, len(df)-1):\n",
    "        sequences.append(df.loc[start_idx:stop_idx])\n",
    "        labels.append(df.loc[stop_idx+1])\n",
    "        start_idx += 1\n",
    "    #return np.array(sequences), np.array(labels)\n",
    "\n",
    "    sequences = np.array([[[float(x) for x in list ]for list in blist] for blist in np.array(sequences)])\n",
    "    labels = np.array([[float(y) for y in blist ] for blist in np.array(labels)])\n",
    "\n",
    "    # print(len(sequences))\n",
    "    # print(len(labels))\n",
    "    # for i in range(len(sequences)):\n",
    "    #   print(sequences[i], \":   \", labels[i])\n",
    "\n",
    "    if given_size != None:\n",
    "        train_size = int(given_size * len(sequences))\n",
    "        trainX = sequences[:train_size]\n",
    "        trainY = labels[:train_size]\n",
    "        testX = sequences[train_size:]\n",
    "        testY = labels[train_size:]\n",
    "\n",
    "        trainY = np.delete(trainY, -1, 1)\n",
    "        testY = np.delete(testY, -1, 1)\n",
    "\n",
    "        model = Sequential()\n",
    "        model.add(LSTM(units=50, return_sequences=True, input_shape = (trainX.shape[1], trainX.shape[2])))\n",
    "        model.add(Dropout(0.1)) \n",
    "        model.add(LSTM(units=50))\n",
    "        model.add(Dense(trainX.shape[2]-1))\n",
    "\n",
    "        # model.compile(loss='mean_squared_error', optimizer='adam', metrics=['mean_absolute_error'])\n",
    "        model.compile(loss='mean_squared_error', optimizer='adam')\n",
    "        model.summary()\n",
    "        model.fit(trainX, trainY, epochs=70, batch_size=None) #epochs ought to be 20+ I guess\n",
    "\n",
    "        #Prediction\n",
    "        predY = model.predict(testX)\n",
    "    \n",
    "        series_plus_one = testX[-1]\n",
    "        series_plus_one = np.delete(series_plus_one, 0, 0)\n",
    "        series_plus_one = np.vstack([series_plus_one, np.hstack([predY[-1],np.array([0])])])\n",
    "        plus_one_Y = model.predict(np.array([series_plus_one]))\n",
    "        plus_one_Y = Scaler.inverse_transform(plus_one_Y)\n",
    "\n",
    "        next_day_df = pd.DataFrame(plus_one_Y, columns = stock_columns)\n",
    "        print(next_day_df)\n",
    "    \n",
    "        predY = Scaler.inverse_transform(predY)\n",
    "        rmse = np.sqrt(np.mean((predY - Scaler.inverse_transform(testY))**2))\n",
    "        print('\\nRoot Mean Squared Error (RMSE):', rmse,\"\\n\\n\")\n",
    "\n",
    "        pred_df = pd.DataFrame(predY, columns = stock_columns, index = date_index[-len(predY):])\n",
    "        print(\"Length of pred_df\",len(pred_df))\n",
    "        print(pred_df)\n",
    "\n",
    "        test_arr = Scaler.inverse_transform(testY)\n",
    "        testplot_df = pd.DataFrame(test_arr, columns = stock_columns, index = date_index[-len(pred_df):])\n",
    "        print(\"Length of testplot_df\",len(testplot_df))\n",
    "        print(testplot_df)\n",
    "\n",
    "        plotting_column = 'High'\n",
    "        #sns.lineplot(x = date_index[(len(trainX)+31):], y = pred_df[plotting_column], color='blue')\n",
    "        #sns.lineplot(x = date_index[(len(trainX)+31):], y = testplot_df[plotting_column], color='orange')\n",
    "        plt.figure(figsize=(10,6))\n",
    "        sns.lineplot(x = pred_df.index, y = pred_df[plotting_column], color='cyan')\n",
    "        sns.lineplot(x = testplot_df.index, y = testplot_df[plotting_column], color='orange')\n",
    "        plt.xticks(rotation=50)\n",
    "        plt.grid()\n",
    "\n",
    "        #df = Scaler.inverse_transform(df)\n",
    "        #df = pd.DataFrame(df, columns = stock_columns, index=date_index)\n",
    "        return df, date_index, testplot_df, pred_df\n",
    "\n",
    "    return df, date_index"
   ]
  },
  {
   "cell_type": "code",
   "execution_count": 110,
   "metadata": {
    "colab": {
     "base_uri": "https://localhost:8080/",
     "height": 1000
    },
    "id": "kc9PlrJJ65fH",
    "outputId": "51892120-3445-4a3a-a094-29e542ae1e82",
    "tags": []
   },
   "outputs": [
    {
     "name": "stdout",
     "output_type": "stream",
     "text": [
      "Model: \"sequential_24\"\n",
      "_________________________________________________________________\n",
      " Layer (type)                Output Shape              Param #   \n",
      "=================================================================\n",
      " lstm_48 (LSTM)              (None, 31, 50)            11200     \n",
      "                                                                 \n",
      " dropout_13 (Dropout)        (None, 31, 50)            0         \n",
      "                                                                 \n",
      " lstm_49 (LSTM)              (None, 50)                20200     \n",
      "                                                                 \n",
      " dense_24 (Dense)            (None, 4)                 204       \n",
      "                                                                 \n",
      "=================================================================\n",
      "Total params: 31,604\n",
      "Trainable params: 31,604\n",
      "Non-trainable params: 0\n",
      "_________________________________________________________________\n",
      "Epoch 1/20\n",
      "19/19 [==============================] - 6s 50ms/step - loss: 0.4907\n",
      "Epoch 2/20\n",
      "19/19 [==============================] - 1s 59ms/step - loss: 0.0906\n",
      "Epoch 3/20\n",
      "19/19 [==============================] - 1s 57ms/step - loss: 0.0478\n",
      "Epoch 4/20\n",
      "19/19 [==============================] - 1s 49ms/step - loss: 0.0421\n",
      "Epoch 5/20\n",
      "19/19 [==============================] - 1s 47ms/step - loss: 0.0385\n",
      "Epoch 6/20\n",
      "19/19 [==============================] - 1s 52ms/step - loss: 0.0354\n",
      "Epoch 7/20\n",
      "19/19 [==============================] - 1s 54ms/step - loss: 0.0335\n",
      "Epoch 8/20\n",
      "19/19 [==============================] - 1s 45ms/step - loss: 0.0308\n",
      "Epoch 9/20\n",
      "19/19 [==============================] - 1s 41ms/step - loss: 0.0302\n",
      "Epoch 10/20\n",
      "19/19 [==============================] - 1s 44ms/step - loss: 0.0284\n",
      "Epoch 11/20\n",
      "19/19 [==============================] - 1s 46ms/step - loss: 0.0290\n",
      "Epoch 12/20\n",
      "19/19 [==============================] - 1s 46ms/step - loss: 0.0289\n",
      "Epoch 13/20\n",
      "19/19 [==============================] - 1s 49ms/step - loss: 0.0290\n",
      "Epoch 14/20\n",
      "19/19 [==============================] - 1s 47ms/step - loss: 0.0256\n",
      "Epoch 15/20\n",
      "19/19 [==============================] - 1s 47ms/step - loss: 0.0245\n",
      "Epoch 16/20\n",
      "19/19 [==============================] - 1s 51ms/step - loss: 0.0243\n",
      "Epoch 17/20\n",
      "19/19 [==============================] - 1s 45ms/step - loss: 0.0255\n",
      "Epoch 18/20\n",
      "19/19 [==============================] - 1s 40ms/step - loss: 0.0238\n",
      "Epoch 19/20\n",
      "19/19 [==============================] - 1s 41ms/step - loss: 0.0226\n",
      "Epoch 20/20\n",
      "19/19 [==============================] - 1s 44ms/step - loss: 0.0211\n",
      "4/4 [==============================] - 1s 22ms/step\n",
      "1/1 [==============================] - 0s 30ms/step\n",
      "         Open        High         Low       Close\n",
      "0  124.649986  125.995255  123.455322  124.929428\n",
      "\n",
      "Root Mean Squared Error (RMSE): 3.3144663073005325 \n",
      "\n",
      "\n",
      "Length of pred_df 107\n",
      "                  Open        High         Low       Close\n",
      "Date                                                      \n",
      "2023-01-06   89.233925   90.272148   88.346176   89.713615\n",
      "2023-01-09   88.989349   90.066223   88.278130   89.468933\n",
      "2023-01-10   88.867455   90.006523   88.236641   89.364426\n",
      "2023-01-11   88.639854   89.799644   88.071915   89.105843\n",
      "2023-01-12   88.871529   90.050270   88.262344   89.354210\n",
      "...                ...         ...         ...         ...\n",
      "2023-06-05  123.034195  124.094345  121.600357  123.303947\n",
      "2023-06-06  123.704620  124.708435  122.179131  123.895355\n",
      "2023-06-07  124.708206  125.647186  123.099434  124.817215\n",
      "2023-06-08  125.196373  126.245995  123.681847  125.336464\n",
      "2023-06-09  124.749054  126.024826  123.508369  125.008232\n",
      "\n",
      "[107 rows x 4 columns]\n",
      "Length of testplot_df 107\n",
      "                  Open        High         Low       Close\n",
      "Date                                                      \n",
      "2023-01-06   86.790001   87.690002   84.860001   87.339996\n",
      "2023-01-09   88.360001   90.050003   87.860001   88.019997\n",
      "2023-01-10   85.980003   88.669998   85.830002   88.419998\n",
      "2023-01-11   89.180000   91.599998   89.010002   91.519997\n",
      "2023-01-12   91.480003   91.870003   89.750000   91.129997\n",
      "...                ...         ...         ...         ...\n",
      "2023-06-05  124.010002  127.430000  123.839996  126.010002\n",
      "2023-06-06  126.010002  128.289993  125.360001  127.309998\n",
      "2023-06-07  126.970001  129.039993  122.120003  122.500000\n",
      "2023-06-08  122.230003  123.230003  121.239998  122.139999\n",
      "2023-06-09  122.250000  123.760002  121.910004  122.230003\n",
      "\n",
      "[107 rows x 4 columns]\n"
     ]
    },
    {
     "data": {
      "image/png": "[encoded data removed]",
      "text/plain": [
       "<Figure size 1000x600 with 1 Axes>"
      ]
     },
     "metadata": {},
     "output_type": "display_data"
    }
   ],
   "source": [
    "eg_df, date_index, pred_df, testplot_df = stockpipe(stock_df, given_size=0.85)"
   ]
  },
  {
   "cell_type": "code",
   "execution_count": 99,
   "metadata": {
    "colab": {
     "base_uri": "https://localhost:8080/"
    },
    "id": "JPZF2Wsz68bt",
    "outputId": "a41b7f63-4720-4b63-f029-aa5f4ad6fb13",
    "tags": []
   },
   "outputs": [
    {
     "name": "stdout",
     "output_type": "stream",
     "text": [
      "         Open      High       Low     Close  Term\n",
      "0   -1.804409 -1.794442 -1.775639 -1.761501   0.0\n",
      "1   -1.729114 -1.702350 -1.689767 -1.696866   0.0\n",
      "2   -1.645429 -1.652946 -1.629454 -1.628090   0.0\n",
      "3   -1.627038 -1.626910 -1.599844 -1.650606   0.0\n",
      "4   -1.616275 -1.650255 -1.593792 -1.618949   0.0\n",
      "..        ...       ...       ...       ...   ...\n",
      "736  0.640968  0.735834  0.697910  0.733618   0.0\n",
      "737  0.733156  0.775393  0.768675  0.793786   0.0\n",
      "738  0.777407  0.809893  0.617835  0.571165   0.0\n",
      "739  0.558920  0.542634  0.576866  0.554503   0.0\n",
      "740  0.559841  0.567014  0.608058  0.558668   0.0\n",
      "\n",
      "[741 rows x 5 columns]\n"
     ]
    }
   ],
   "source": [
    "print(eg_df)"
   ]
  },
  {
   "cell_type": "code",
   "execution_count": 100,
   "metadata": {
    "colab": {
     "base_uri": "https://localhost:8080/"
    },
    "id": "bQOg3Z_7khEe",
    "outputId": "28dcefaf-90a7-408d-93a4-ea26202ad077",
    "tags": []
   },
   "outputs": [
    {
     "name": "stdout",
     "output_type": "stream",
     "text": [
      "R2 score for daily High: 0.96598\n",
      "R2 score for Opening price: 0.98149\n"
     ]
    }
   ],
   "source": [
    "from sklearn.metrics import mean_absolute_percentage_error, r2_score\n",
    "\n",
    "merged_df = pd.merge(pred_df, testplot_df, on=pred_df.index)\n",
    "\n",
    "#mape_1 = mean_absolute_percentage_error(merged_df['High_x'], merged_df['High_y'])\n",
    "#mape_2 = mean_absolute_percentage_error(merged_df['Open_x'], merged_df['Open_y'])\n",
    "r2_1 = r2_score(merged_df['High_x'], merged_df['High_y'])\n",
    "r2_2 = r2_score(merged_df['Open_x'], merged_df['Open_y'])\n",
    "\n",
    "#print(f\"MAPE for daily High: {mape_1:.2f}\")\n",
    "#print(f\"MAPE for Opening price: {mape_2:.2f}\")\n",
    "print(f\"R2 score for daily High: {r2_1:.5f}\")\n",
    "print(f\"R2 score for Opening price: {r2_2:.5f}\")\n",
    "\n",
    "### R2 scores are  the amount of the variation in the output dependent attribute which is predictable from the input independent variable(s). \n",
    "###It is used to check how well-observed results are reproduced by the model, depending on the ratio of total deviation of results described by the model. "
   ]
  },
  {
   "cell_type": "code",
   "execution_count": 81,
   "metadata": {
    "id": "grYpZa_JlDoP",
    "tags": []
   },
   "outputs": [
    {
     "ename": "TypeError",
     "evalue": "string indices must be integers, not 'str'",
     "output_type": "error",
     "traceback": [
      "\u001b[1;31m---------------------------------------------------------------------------\u001b[0m",
      "\u001b[1;31mTypeError\u001b[0m                                 Traceback (most recent call last)",
      "Cell \u001b[1;32mIn[81], line 3\u001b[0m\n\u001b[0;32m      1\u001b[0m n \u001b[38;5;241m=\u001b[39m \u001b[38;5;241m0\u001b[39m\n\u001b[0;32m      2\u001b[0m \u001b[38;5;28;01mfor\u001b[39;00m x \u001b[38;5;129;01min\u001b[39;00m score_df:\n\u001b[1;32m----> 3\u001b[0m     \u001b[38;5;28;01mif\u001b[39;00m \u001b[43mx\u001b[49m\u001b[43m[\u001b[49m\u001b[38;5;124;43m'\u001b[39;49m\u001b[38;5;124;43mTerm\u001b[39;49m\u001b[38;5;124;43m'\u001b[39;49m\u001b[43m]\u001b[49m \u001b[38;5;241m==\u001b[39m \u001b[38;5;241m0\u001b[39m:\n\u001b[0;32m      4\u001b[0m         n\u001b[38;5;241m+\u001b[39m\u001b[38;5;241m=\u001b[39m\u001b[38;5;241m1\u001b[39m\n",
      "\u001b[1;31mTypeError\u001b[0m: string indices must be integers, not 'str'"
     ]
    }
   ],
   "source": [
    "n = 0\n",
    "for x in score_df:\n",
    "    if x['Term'] == 0:\n",
    "        n+=1"
   ]
  },
  {
   "cell_type": "code",
   "execution_count": 87,
   "metadata": {
    "tags": []
   },
   "outputs": [
    {
     "data": {
      "text/plain": [
       "1000"
      ]
     },
     "execution_count": 87,
     "metadata": {},
     "output_type": "execute_result"
    }
   ],
   "source": [
    "len(score_df.loc[score_df['Term'] == 0])"
   ]
  },
  {
   "cell_type": "code",
   "execution_count": 85,
   "metadata": {
    "tags": []
   },
   "outputs": [
    {
     "data": {
      "text/plain": [
       "1095"
      ]
     },
     "execution_count": 85,
     "metadata": {},
     "output_type": "execute_result"
    }
   ],
   "source": [
    "len(score_df)"
   ]
  },
  {
   "cell_type": "code",
   "execution_count": 86,
   "metadata": {
    "tags": []
   },
   "outputs": [
    {
     "data": {
      "text/html": [
       "<div>\n",
       "<style scoped>\n",
       "    .dataframe tbody tr th:only-of-type {\n",
       "        vertical-align: middle;\n",
       "    }\n",
       "\n",
       "    .dataframe tbody tr th {\n",
       "        vertical-align: top;\n",
       "    }\n",
       "\n",
       "    .dataframe thead th {\n",
       "        text-align: right;\n",
       "    }\n",
       "</style>\n",
       "<table border=\"1\" class=\"dataframe\">\n",
       "  <thead>\n",
       "    <tr style=\"text-align: right;\">\n",
       "      <th></th>\n",
       "      <th>Overall</th>\n",
       "      <th>Term</th>\n",
       "    </tr>\n",
       "  </thead>\n",
       "  <tbody>\n",
       "    <tr>\n",
       "      <th>count</th>\n",
       "      <td>1095.000000</td>\n",
       "      <td>1095.000000</td>\n",
       "    </tr>\n",
       "    <tr>\n",
       "      <th>mean</th>\n",
       "      <td>-0.018100</td>\n",
       "      <td>-0.000922</td>\n",
       "    </tr>\n",
       "    <tr>\n",
       "      <th>std</th>\n",
       "      <td>0.050819</td>\n",
       "      <td>0.100315</td>\n",
       "    </tr>\n",
       "    <tr>\n",
       "      <th>min</th>\n",
       "      <td>-0.211311</td>\n",
       "      <td>-0.709600</td>\n",
       "    </tr>\n",
       "    <tr>\n",
       "      <th>25%</th>\n",
       "      <td>-0.052157</td>\n",
       "      <td>0.000000</td>\n",
       "    </tr>\n",
       "    <tr>\n",
       "      <th>50%</th>\n",
       "      <td>-0.016408</td>\n",
       "      <td>0.000000</td>\n",
       "    </tr>\n",
       "    <tr>\n",
       "      <th>75%</th>\n",
       "      <td>0.014720</td>\n",
       "      <td>0.000000</td>\n",
       "    </tr>\n",
       "    <tr>\n",
       "      <th>max</th>\n",
       "      <td>0.143991</td>\n",
       "      <td>0.765000</td>\n",
       "    </tr>\n",
       "  </tbody>\n",
       "</table>\n",
       "</div>"
      ],
      "text/plain": [
       "           Overall         Term\n",
       "count  1095.000000  1095.000000\n",
       "mean     -0.018100    -0.000922\n",
       "std       0.050819     0.100315\n",
       "min      -0.211311    -0.709600\n",
       "25%      -0.052157     0.000000\n",
       "50%      -0.016408     0.000000\n",
       "75%       0.014720     0.000000\n",
       "max       0.143991     0.765000"
      ]
     },
     "execution_count": 86,
     "metadata": {},
     "output_type": "execute_result"
    }
   ],
   "source": [
    "score_df.describe()"
   ]
  },
  {
   "cell_type": "code",
   "execution_count": null,
   "metadata": {},
   "outputs": [],
   "source": []
  }
 ],
 "metadata": {
  "colab": {
   "provenance": []
  },
  "kernelspec": {
   "display_name": "Python 3 (ipykernel)",
   "language": "python",
   "name": "python3"
  },
  "language_info": {
   "codemirror_mode": {
    "name": "ipython",
    "version": 3
   },
   "file_extension": ".py",
   "mimetype": "text/x-python",
   "name": "python",
   "nbconvert_exporter": "python",
   "pygments_lexer": "ipython3",
   "version": "3.11.3"
  }
 },
 "nbformat": 4,
 "nbformat_minor": 4
}
