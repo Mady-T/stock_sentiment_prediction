{
 "cells": [
  {
   "cell_type": "code",
   "execution_count": 9,
   "metadata": {
    "id": "hENHo3YzjOnV",
    "tags": []
   },
   "outputs": [],
   "source": [
    "from sklearn.preprocessing import MinMaxScaler, StandardScaler\n",
    "import numpy as np\n",
    "import pandas as pd\n",
    "from keras.models import Sequential\n",
    "from keras.layers import Dense\n",
    "from keras.layers import LSTM\n",
    "from keras.layers import Dropout\n",
    "import yfinance as yf\n",
    "from matplotlib import pyplot as plt\n",
    "import seaborn as sns\n",
    "import copy\n",
    "import requests\n",
    "from bs4 import BeautifulSoup\n",
    "from datetime import date, timedelta\n",
    "from time import sleep\n",
    "from random import random\n",
    "from os.path import exists\n",
    "from vaderSentiment.vaderSentiment import SentimentIntensityAnalyzer\n",
    "# from keras.preprocessing.sequence import TimeseriesGenerator\n",
    "# from datetime import timedelta"
   ]
  },
  {
   "cell_type": "code",
   "execution_count": 6,
   "metadata": {
    "tags": []
   },
   "outputs": [
    {
     "name": "stdout",
     "output_type": "stream",
     "text": [
      "2023-06-12\n"
     ]
    }
   ],
   "source": [
    "head = {'User-Agent': 'Mozilla/5.0 (Windows NT 10.0; Win64; x64) AppleWebKit/537.36 (KHTML, like Gecko) Chrome/114.0.0.0 Safari/537.36'}\n",
    "today = date.today()\n",
    "oneday = timedelta(days=1)\n",
    "print(today)"
   ]
  },
  {
   "cell_type": "code",
   "execution_count": 7,
   "metadata": {
    "tags": []
   },
   "outputs": [],
   "source": [
    "day = today + oneday\n",
    "for i in range(3*365):\n",
    "    day = day - oneday\n",
    "    url = \"https://www.wsj.com/news/archive/\"+str(day.year)+'/'+str(day.month)+'/'+str(day.day)\n",
    "    fileurl = 'wsj/'+str(day)+'.html'\n",
    "    if not exists(fileurl):\n",
    "        html = requests.get(url, headers = head)\n",
    "        try:\n",
    "            html.raise_for_status()\n",
    "            with open(fileurl, 'wb+') as f:\n",
    "                f.write(html.content)\n",
    "            sleep(0.5+random())\n",
    "        except:\n",
    "            print('failed at: '+str(day))"
   ]
  },
  {
   "cell_type": "code",
   "execution_count": 10,
   "metadata": {
    "tags": []
   },
   "outputs": [
    {
     "name": "stdin",
     "output_type": "stream",
     "text": [
      " google\n"
     ]
    }
   ],
   "source": [
    "analyzer = SentimentIntensityAnalyzer()\n",
    "searchterm = input().casefold()"
   ]
  },
  {
   "cell_type": "code",
   "execution_count": 12,
   "metadata": {
    "tags": []
   },
   "outputs": [
    {
     "name": "stdout",
     "output_type": "stream",
     "text": [
      "Progress:  0\n",
      "Progress:  100\n",
      "Progress:  200\n",
      "Progress:  300\n",
      "Progress:  400\n",
      "Progress:  500\n",
      "Progress:  600\n",
      "Progress:  700\n",
      "Progress:  800\n",
      "Progress:  900\n",
      "Progress:  1000\n"
     ]
    }
   ],
   "source": [
    "day = today+oneday\n",
    "score_df = pd.DataFrame(columns = ['Overall','Term','Date']).set_index('Date')\n",
    "for i in range(3*365):\n",
    "    if i%100 == 0:\n",
    "        print('Progress: ', i)\n",
    "    day = day - oneday\n",
    "    fileurl = 'wsj/'+str(day)+'.html'\n",
    "    if exists(fileurl):\n",
    "        with open(fileurl, 'rb') as f:\n",
    "            html = f.read()\n",
    "        soup = BeautifulSoup(html, 'html.parser')\n",
    "        artlist = soup.find_all('span', class_='WSJTheme--headlineText--He1ANr9C')\n",
    "        day_score = 0\n",
    "        search_score = 0\n",
    "        num_matches = 0\n",
    "        for art in artlist:\n",
    "            score = analyzer.polarity_scores(art.text)['compound']\n",
    "            day_score += score\n",
    "            if searchterm in art.text.casefold():\n",
    "                search_score += score\n",
    "                num_matches += 1\n",
    "            #print(art.text, analyzer.polarity_scores(art.text)['compound'])\n",
    "        if artlist:\n",
    "            day_score/=len(artlist)\n",
    "        if num_matches != 0:\n",
    "            search_score/=num_matches\n",
    "        score_df.loc[pd.to_datetime(day)] = [day_score, search_score]\n",
    "    else:\n",
    "        print(\"Out of bounds\")"
   ]
  },
  {
   "cell_type": "code",
   "execution_count": 13,
   "metadata": {
    "tags": []
   },
   "outputs": [],
   "source": [
    "def getTicker(searchterm):\n",
    "    head = {'User-Agent': 'Mozilla/5.0 (Windows NT 10.0; Win64; x64) AppleWebKit/537.36 (KHTML, like Gecko) Chrome/114.0.0.0 Safari/537.36'}\n",
    "    #searchterm = input()\n",
    "    queryurl = 'https://www.google.com/search?q='+searchterm+'+stock'\n",
    "    page = requests.get(queryurl,headers=head)\n",
    "    soup = BeautifulSoup(page.text, 'html.parser')\n",
    "    res = soup.find('div', class_=\"iAIpCb PZPZlf\")\n",
    "    if res != None:\n",
    "        return res.text.split()[1]\n",
    "    return None"
   ]
  },
  {
   "cell_type": "code",
   "execution_count": 14,
   "metadata": {
    "id": "lLap4dTBjX6n",
    "tags": []
   },
   "outputs": [],
   "source": [
    "stock = yf.Ticker(getTicker(searchterm))\n",
    "stock_df = stock.history(period=\"3y\")"
   ]
  },
  {
   "cell_type": "code",
   "execution_count": 63,
   "metadata": {
    "colab": {
     "base_uri": "https://localhost:8080/",
     "height": 421
    },
    "id": "P9-lN0jHk246",
    "outputId": "b1094308-a16a-4aa6-8769-998589aeceab",
    "tags": []
   },
   "outputs": [
    {
     "name": "stdout",
     "output_type": "stream",
     "text": [
      "                 Open       High        Low      Close\n",
      "Date                                                  \n",
      "2020-06-26  71.631500  71.850998  67.750000  68.126999\n",
      "2020-06-29  68.016998  69.900002  67.582497  69.858498\n",
      "2020-06-30  69.844002  71.199997  69.346497  70.902496\n",
      "2020-07-01  70.958504  72.424004  70.709000  72.099998\n",
      "2020-07-02  72.592003  74.426003  72.553497  73.496498\n"
     ]
    },
    {
     "data": {
      "text/html": [
       "<div>\n",
       "<style scoped>\n",
       "    .dataframe tbody tr th:only-of-type {\n",
       "        vertical-align: middle;\n",
       "    }\n",
       "\n",
       "    .dataframe tbody tr th {\n",
       "        vertical-align: top;\n",
       "    }\n",
       "\n",
       "    .dataframe thead th {\n",
       "        text-align: right;\n",
       "    }\n",
       "</style>\n",
       "<table border=\"1\" class=\"dataframe\">\n",
       "  <thead>\n",
       "    <tr style=\"text-align: right;\">\n",
       "      <th></th>\n",
       "      <th>Open</th>\n",
       "      <th>High</th>\n",
       "      <th>Low</th>\n",
       "      <th>Close</th>\n",
       "    </tr>\n",
       "  </thead>\n",
       "  <tbody>\n",
       "    <tr>\n",
       "      <th>count</th>\n",
       "      <td>744.000000</td>\n",
       "      <td>744.000000</td>\n",
       "      <td>744.000000</td>\n",
       "      <td>744.000000</td>\n",
       "    </tr>\n",
       "    <tr>\n",
       "      <th>mean</th>\n",
       "      <td>110.104456</td>\n",
       "      <td>111.433616</td>\n",
       "      <td>108.849120</td>\n",
       "      <td>110.159308</td>\n",
       "    </tr>\n",
       "    <tr>\n",
       "      <th>std</th>\n",
       "      <td>21.709208</td>\n",
       "      <td>21.753757</td>\n",
       "      <td>21.494115</td>\n",
       "      <td>21.620722</td>\n",
       "    </tr>\n",
       "    <tr>\n",
       "      <th>min</th>\n",
       "      <td>68.016998</td>\n",
       "      <td>69.900002</td>\n",
       "      <td>67.582497</td>\n",
       "      <td>68.126999</td>\n",
       "    </tr>\n",
       "    <tr>\n",
       "      <th>25%</th>\n",
       "      <td>92.539999</td>\n",
       "      <td>94.335001</td>\n",
       "      <td>91.610001</td>\n",
       "      <td>92.787502</td>\n",
       "    </tr>\n",
       "    <tr>\n",
       "      <th>50%</th>\n",
       "      <td>108.160000</td>\n",
       "      <td>110.474998</td>\n",
       "      <td>106.869999</td>\n",
       "      <td>108.803753</td>\n",
       "    </tr>\n",
       "    <tr>\n",
       "      <th>75%</th>\n",
       "      <td>127.729624</td>\n",
       "      <td>129.915504</td>\n",
       "      <td>126.210249</td>\n",
       "      <td>127.393375</td>\n",
       "    </tr>\n",
       "    <tr>\n",
       "      <th>max</th>\n",
       "      <td>151.250000</td>\n",
       "      <td>151.546494</td>\n",
       "      <td>148.899002</td>\n",
       "      <td>149.838501</td>\n",
       "    </tr>\n",
       "  </tbody>\n",
       "</table>\n",
       "</div>"
      ],
      "text/plain": [
       "             Open        High         Low       Close\n",
       "count  744.000000  744.000000  744.000000  744.000000\n",
       "mean   110.104456  111.433616  108.849120  110.159308\n",
       "std     21.709208   21.753757   21.494115   21.620722\n",
       "min     68.016998   69.900002   67.582497   68.126999\n",
       "25%     92.539999   94.335001   91.610001   92.787502\n",
       "50%    108.160000  110.474998  106.869999  108.803753\n",
       "75%    127.729624  129.915504  126.210249  127.393375\n",
       "max    151.250000  151.546494  148.899002  149.838501"
      ]
     },
     "execution_count": 63,
     "metadata": {},
     "output_type": "execute_result"
    }
   ],
   "source": [
    "stock_df = stock_df.loc[:,['Open', 'High', 'Low', 'Close']]\n",
    "stock_df.index = stock_df.index.tz_localize(None)\n",
    "\n",
    "print(stock_df.head())\n",
    "stock_df.describe()"
   ]
  },
  {
   "cell_type": "code",
   "execution_count": 64,
   "metadata": {
    "id": "uoHtaGR_eX1G",
    "tags": []
   },
   "outputs": [
    {
     "data": {
      "text/plain": [
       "False"
      ]
     },
     "execution_count": 64,
     "metadata": {},
     "output_type": "execute_result"
    }
   ],
   "source": [
    "# def create_sequence(dataset):\n",
    "#     sequences = []\n",
    "#     labels = []\n",
    "#     start_idx = 0\n",
    "#     for stop_idx in range(30, len(dataset)):\n",
    "#         sequences.append(dataset.loc[start_idx:stop_idx])\n",
    "#         labels.append(dataset.loc[stop_idx])\n",
    "#         start_idx += 1\n",
    "#     return np.array(sequences), np.array(labels)\n",
    "stock_df.isnull().values.any()"
   ]
  },
  {
   "cell_type": "code",
   "execution_count": 77,
   "metadata": {
    "id": "nCGLxruDor5A",
    "tags": []
   },
   "outputs": [],
   "source": [
    "def stockpipe(df, given_size=None):\n",
    "    Scaler = StandardScaler()\n",
    "    scaled_df = Scaler.fit_transform(df)\n",
    "\n",
    "\n",
    "    interval = 30\n",
    "\n",
    "    df = pd.DataFrame(scaled_df, columns = df.columns, index=df.index.tz_localize(None))\n",
    "    #print(\"Scaled Dataframe: \\n\",df)\n",
    "    stock_columns = df.columns\n",
    "    date_index = df.index\n",
    "\n",
    "    #shenanigans \n",
    "    df = df.join(score_df['Term'])\n",
    "    df = df.iloc[3:]\n",
    "\n",
    "    df.reset_index(drop=True, inplace=True)\n",
    "\n",
    "    sequences = []\n",
    "    labels = []\n",
    "    start_idx = 0\n",
    "    for stop_idx in range(interval, len(df)-1):\n",
    "        sequences.append(df.loc[start_idx:stop_idx])\n",
    "        labels.append(df.loc[stop_idx+1])\n",
    "        start_idx += 1\n",
    "    #return np.array(sequences), np.array(labels)\n",
    "\n",
    "    sequences = np.array([[[float(x) for x in list ]for list in blist] for blist in np.array(sequences)])\n",
    "    labels = np.array([[float(y) for y in blist ] for blist in np.array(labels)])\n",
    "\n",
    "    # print(len(sequences))\n",
    "    # print(len(labels))\n",
    "    # for i in range(len(sequences)):\n",
    "    #   print(sequences[i], \":   \", labels[i])\n",
    "\n",
    "    if given_size != None:\n",
    "        train_size = int(given_size * len(sequences))\n",
    "        trainX = sequences[:train_size]\n",
    "        trainY = labels[:train_size]\n",
    "        testX = sequences[train_size:]\n",
    "        testY = labels[train_size:]\n",
    "\n",
    "        trainY = np.delete(trainY, -1, 1)\n",
    "        testY = np.delete(testY, -1, 1)\n",
    "\n",
    "        model = Sequential()\n",
    "        model.add(LSTM(units=50, return_sequences=True, input_shape = (trainX.shape[1], trainX.shape[2])))\n",
    "        model.add(Dropout(0.1)) \n",
    "        model.add(LSTM(units=50))\n",
    "        model.add(Dense(trainX.shape[2]-1))\n",
    "\n",
    "        # model.compile(loss='mean_squared_error', optimizer='adam', metrics=['mean_absolute_error'])\n",
    "        model.compile(loss='mean_squared_error', optimizer='adam')\n",
    "        model.summary()\n",
    "        model.fit(trainX, trainY, epochs=100, batch_size=None) #epochs ought to be 20+ I guess\n",
    "\n",
    "        #Prediction\n",
    "        predY = model.predict(testX)\n",
    "    \n",
    "#     series_plus_one = testX[-1]\n",
    "#     series_plus_one = np.delete(series_plus_one, 0, 0)\n",
    "#     series_plus_one = np.vstack([series_plus_one, predY[-1]])\n",
    "#     plus_one_Y = model.predict(np.array([series_plus_one]))\n",
    "#     plus_one_Y = Scaler.inverse_transform(plus_one_Y)\n",
    "    \n",
    "#     next_day_df = pd.DataFrame(plus_one_Y, columns = stock_columns)\n",
    "#     print(next_day_df)\n",
    "    \n",
    "        predY = Scaler.inverse_transform(predY)\n",
    "        rmse = np.sqrt(np.mean((predY - Scaler.inverse_transform(testY))**2))\n",
    "        print('\\nRoot Mean Squared Error (RMSE):', rmse,\"\\n\\n\")\n",
    "\n",
    "        pred_df = pd.DataFrame(predY, columns = stock_columns, index = date_index[-len(predY):])\n",
    "        print(\"Length of pred_df\",len(pred_df))\n",
    "        print(pred_df)\n",
    "\n",
    "        test_arr = Scaler.inverse_transform(testY)\n",
    "        testplot_df = pd.DataFrame(test_arr, columns = stock_columns, index = date_index[-len(pred_df):])\n",
    "        print(\"Length of testplot_df\",len(testplot_df))\n",
    "        print(testplot_df)\n",
    "\n",
    "        plotting_column = 'High'\n",
    "        #sns.lineplot(x = date_index[(len(trainX)+31):], y = pred_df[plotting_column], color='blue')\n",
    "        #sns.lineplot(x = date_index[(len(trainX)+31):], y = testplot_df[plotting_column], color='orange')\n",
    "        plt.figure(figsize=(10,6))\n",
    "        sns.lineplot(x = pred_df.index, y = pred_df[plotting_column], color='cyan')\n",
    "        sns.lineplot(x = testplot_df.index, y = testplot_df[plotting_column], color='orange')\n",
    "        plt.xticks(rotation=50)\n",
    "        plt.grid()\n",
    "\n",
    "        #df = Scaler.inverse_transform(df)\n",
    "        #df = pd.DataFrame(df, columns = stock_columns, index=date_index)\n",
    "        return df, date_index, testplot_df, pred_df\n",
    "\n",
    "    return df, date_index"
   ]
  },
  {
   "cell_type": "code",
   "execution_count": 78,
   "metadata": {
    "colab": {
     "base_uri": "https://localhost:8080/",
     "height": 1000
    },
    "id": "kc9PlrJJ65fH",
    "outputId": "51892120-3445-4a3a-a094-29e542ae1e82",
    "tags": []
   },
   "outputs": [
    {
     "name": "stdout",
     "output_type": "stream",
     "text": [
      "Model: \"sequential_16\"\n",
      "_________________________________________________________________\n",
      " Layer (type)                Output Shape              Param #   \n",
      "=================================================================\n",
      " lstm_32 (LSTM)              (None, 31, 50)            11200     \n",
      "                                                                 \n",
      " dropout_5 (Dropout)         (None, 31, 50)            0         \n",
      "                                                                 \n",
      " lstm_33 (LSTM)              (None, 50)                20200     \n",
      "                                                                 \n",
      " dense_16 (Dense)            (None, 4)                 204       \n",
      "                                                                 \n",
      "=================================================================\n",
      "Total params: 31,604\n",
      "Trainable params: 31,604\n",
      "Non-trainable params: 0\n",
      "_________________________________________________________________\n",
      "Epoch 1/100\n",
      "19/19 [==============================] - 11s 64ms/step - loss: 0.4993\n",
      "Epoch 2/100\n",
      "19/19 [==============================] - 1s 66ms/step - loss: 0.1006\n",
      "Epoch 3/100\n",
      "19/19 [==============================] - 1s 62ms/step - loss: 0.0544\n",
      "Epoch 4/100\n",
      "19/19 [==============================] - 1s 62ms/step - loss: 0.0418\n",
      "Epoch 5/100\n",
      "19/19 [==============================] - 1s 61ms/step - loss: 0.0380\n",
      "Epoch 6/100\n",
      "19/19 [==============================] - 1s 61ms/step - loss: 0.0361\n",
      "Epoch 7/100\n",
      "19/19 [==============================] - 1s 62ms/step - loss: 0.0352\n",
      "Epoch 8/100\n",
      "19/19 [==============================] - 1s 62ms/step - loss: 0.0327\n",
      "Epoch 9/100\n",
      "19/19 [==============================] - 1s 61ms/step - loss: 0.0302\n",
      "Epoch 10/100\n",
      "19/19 [==============================] - 1s 62ms/step - loss: 0.0310\n",
      "Epoch 11/100\n",
      "19/19 [==============================] - 1s 61ms/step - loss: 0.0306\n",
      "Epoch 12/100\n",
      "19/19 [==============================] - 1s 62ms/step - loss: 0.0287\n",
      "Epoch 13/100\n",
      "19/19 [==============================] - 1s 61ms/step - loss: 0.0268\n",
      "Epoch 14/100\n",
      "19/19 [==============================] - 1s 63ms/step - loss: 0.0267\n",
      "Epoch 15/100\n",
      "19/19 [==============================] - 1s 64ms/step - loss: 0.0263\n",
      "Epoch 16/100\n",
      "19/19 [==============================] - 1s 62ms/step - loss: 0.0260\n",
      "Epoch 17/100\n",
      "19/19 [==============================] - 1s 63ms/step - loss: 0.0249\n",
      "Epoch 18/100\n",
      "19/19 [==============================] - 1s 61ms/step - loss: 0.0249\n",
      "Epoch 19/100\n",
      "19/19 [==============================] - 1s 61ms/step - loss: 0.0235\n",
      "Epoch 20/100\n",
      "19/19 [==============================] - 1s 60ms/step - loss: 0.0247\n",
      "Epoch 21/100\n",
      "19/19 [==============================] - 1s 62ms/step - loss: 0.0217\n",
      "Epoch 22/100\n",
      "19/19 [==============================] - 1s 62ms/step - loss: 0.0223\n",
      "Epoch 23/100\n",
      "19/19 [==============================] - 1s 63ms/step - loss: 0.0219\n",
      "Epoch 24/100\n",
      "19/19 [==============================] - 1s 62ms/step - loss: 0.0220\n",
      "Epoch 25/100\n",
      "19/19 [==============================] - 1s 63ms/step - loss: 0.0205\n",
      "Epoch 26/100\n",
      "19/19 [==============================] - 1s 61ms/step - loss: 0.0201\n",
      "Epoch 27/100\n",
      "19/19 [==============================] - 1s 62ms/step - loss: 0.0197\n",
      "Epoch 28/100\n",
      "19/19 [==============================] - 1s 62ms/step - loss: 0.0185\n",
      "Epoch 29/100\n",
      "19/19 [==============================] - 1s 61ms/step - loss: 0.0188\n",
      "Epoch 30/100\n",
      "19/19 [==============================] - 1s 62ms/step - loss: 0.0181\n",
      "Epoch 31/100\n",
      "19/19 [==============================] - 1s 62ms/step - loss: 0.0185\n",
      "Epoch 32/100\n",
      "19/19 [==============================] - 1s 61ms/step - loss: 0.0171\n",
      "Epoch 33/100\n",
      "19/19 [==============================] - 1s 61ms/step - loss: 0.0167\n",
      "Epoch 34/100\n",
      "19/19 [==============================] - 1s 61ms/step - loss: 0.0171\n",
      "Epoch 35/100\n",
      "19/19 [==============================] - 1s 61ms/step - loss: 0.0157\n",
      "Epoch 36/100\n",
      "19/19 [==============================] - 1s 61ms/step - loss: 0.0162\n",
      "Epoch 37/100\n",
      "19/19 [==============================] - 1s 61ms/step - loss: 0.0149\n",
      "Epoch 38/100\n",
      "19/19 [==============================] - 1s 61ms/step - loss: 0.0151\n",
      "Epoch 39/100\n",
      "19/19 [==============================] - 1s 60ms/step - loss: 0.0155\n",
      "Epoch 40/100\n",
      "19/19 [==============================] - 1s 62ms/step - loss: 0.0151\n",
      "Epoch 41/100\n",
      "19/19 [==============================] - 1s 63ms/step - loss: 0.0141\n",
      "Epoch 42/100\n",
      "19/19 [==============================] - 1s 62ms/step - loss: 0.0140\n",
      "Epoch 43/100\n",
      "19/19 [==============================] - 1s 63ms/step - loss: 0.0129\n",
      "Epoch 44/100\n",
      "19/19 [==============================] - 1s 62ms/step - loss: 0.0129\n",
      "Epoch 45/100\n",
      "19/19 [==============================] - 1s 63ms/step - loss: 0.0126\n",
      "Epoch 46/100\n",
      "19/19 [==============================] - 1s 61ms/step - loss: 0.0129\n",
      "Epoch 47/100\n",
      "19/19 [==============================] - 1s 63ms/step - loss: 0.0122\n",
      "Epoch 48/100\n",
      "19/19 [==============================] - 1s 61ms/step - loss: 0.0129\n",
      "Epoch 49/100\n",
      "19/19 [==============================] - 1s 62ms/step - loss: 0.0124\n",
      "Epoch 50/100\n",
      "19/19 [==============================] - 1s 63ms/step - loss: 0.0131\n",
      "Epoch 51/100\n",
      "19/19 [==============================] - 1s 61ms/step - loss: 0.0121\n",
      "Epoch 52/100\n",
      "19/19 [==============================] - 1s 62ms/step - loss: 0.0120\n",
      "Epoch 53/100\n",
      "19/19 [==============================] - 1s 62ms/step - loss: 0.0110\n",
      "Epoch 54/100\n",
      "19/19 [==============================] - 1s 61ms/step - loss: 0.0110\n",
      "Epoch 55/100\n",
      "19/19 [==============================] - 1s 61ms/step - loss: 0.0116\n",
      "Epoch 56/100\n",
      "19/19 [==============================] - 1s 62ms/step - loss: 0.0103\n",
      "Epoch 57/100\n",
      "19/19 [==============================] - 1s 61ms/step - loss: 0.0101\n",
      "Epoch 58/100\n",
      "19/19 [==============================] - 1s 63ms/step - loss: 0.0105\n",
      "Epoch 59/100\n",
      "19/19 [==============================] - 1s 61ms/step - loss: 0.0111\n",
      "Epoch 60/100\n",
      "19/19 [==============================] - 1s 61ms/step - loss: 0.0100\n",
      "Epoch 61/100\n",
      "19/19 [==============================] - 1s 62ms/step - loss: 0.0105\n",
      "Epoch 62/100\n",
      "19/19 [==============================] - 1s 64ms/step - loss: 0.0099\n",
      "Epoch 63/100\n",
      "19/19 [==============================] - 1s 61ms/step - loss: 0.0104\n",
      "Epoch 64/100\n",
      "19/19 [==============================] - 1s 62ms/step - loss: 0.0095\n",
      "Epoch 65/100\n",
      "19/19 [==============================] - 1s 61ms/step - loss: 0.0098\n",
      "Epoch 66/100\n",
      "19/19 [==============================] - 1s 62ms/step - loss: 0.0101\n",
      "Epoch 67/100\n",
      "19/19 [==============================] - 1s 63ms/step - loss: 0.0105\n",
      "Epoch 68/100\n",
      "19/19 [==============================] - 1s 62ms/step - loss: 0.0111\n",
      "Epoch 69/100\n",
      "19/19 [==============================] - 1s 60ms/step - loss: 0.0108\n",
      "Epoch 70/100\n",
      "19/19 [==============================] - 1s 63ms/step - loss: 0.0094\n",
      "Epoch 71/100\n",
      "19/19 [==============================] - 1s 61ms/step - loss: 0.0101\n",
      "Epoch 72/100\n",
      "19/19 [==============================] - 1s 62ms/step - loss: 0.0103\n",
      "Epoch 73/100\n",
      "19/19 [==============================] - 1s 66ms/step - loss: 0.0108\n",
      "Epoch 74/100\n",
      "19/19 [==============================] - 1s 62ms/step - loss: 0.0097\n",
      "Epoch 75/100\n",
      "19/19 [==============================] - 1s 63ms/step - loss: 0.0098\n",
      "Epoch 76/100\n",
      "19/19 [==============================] - 1s 61ms/step - loss: 0.0095\n",
      "Epoch 77/100\n",
      "19/19 [==============================] - 1s 61ms/step - loss: 0.0093\n",
      "Epoch 78/100\n",
      "19/19 [==============================] - 1s 62ms/step - loss: 0.0097\n",
      "Epoch 79/100\n",
      "19/19 [==============================] - 1s 61ms/step - loss: 0.0097\n",
      "Epoch 80/100\n",
      "19/19 [==============================] - 1s 60ms/step - loss: 0.0093\n",
      "Epoch 81/100\n",
      "19/19 [==============================] - 1s 63ms/step - loss: 0.0089\n",
      "Epoch 82/100\n",
      "19/19 [==============================] - 1s 63ms/step - loss: 0.0090\n",
      "Epoch 83/100\n",
      "19/19 [==============================] - 1s 62ms/step - loss: 0.0092\n",
      "Epoch 84/100\n",
      "19/19 [==============================] - 1s 62ms/step - loss: 0.0089\n",
      "Epoch 85/100\n",
      "19/19 [==============================] - 1s 60ms/step - loss: 0.0092\n",
      "Epoch 86/100\n",
      "19/19 [==============================] - 1s 61ms/step - loss: 0.0094\n",
      "Epoch 87/100\n",
      "19/19 [==============================] - 1s 60ms/step - loss: 0.0092\n",
      "Epoch 88/100\n",
      "19/19 [==============================] - 1s 60ms/step - loss: 0.0090\n",
      "Epoch 89/100\n",
      "19/19 [==============================] - 1s 61ms/step - loss: 0.0088\n",
      "Epoch 90/100\n",
      "19/19 [==============================] - 1s 61ms/step - loss: 0.0087\n",
      "Epoch 91/100\n",
      "19/19 [==============================] - 1s 63ms/step - loss: 0.0093\n",
      "Epoch 92/100\n",
      "19/19 [==============================] - 1s 62ms/step - loss: 0.0087\n",
      "Epoch 93/100\n",
      "19/19 [==============================] - 1s 61ms/step - loss: 0.0088\n",
      "Epoch 94/100\n",
      "19/19 [==============================] - 1s 61ms/step - loss: 0.0086\n",
      "Epoch 95/100\n",
      "19/19 [==============================] - 1s 61ms/step - loss: 0.0091\n",
      "Epoch 96/100\n",
      "19/19 [==============================] - 1s 62ms/step - loss: 0.0091\n",
      "Epoch 97/100\n",
      "19/19 [==============================] - 1s 61ms/step - loss: 0.0091\n",
      "Epoch 98/100\n",
      "19/19 [==============================] - 1s 63ms/step - loss: 0.0087\n",
      "Epoch 99/100\n",
      "19/19 [==============================] - 1s 61ms/step - loss: 0.0096\n",
      "Epoch 100/100\n",
      "19/19 [==============================] - 1s 62ms/step - loss: 0.0092\n",
      "4/4 [==============================] - 2s 23ms/step\n",
      "\n",
      "Root Mean Squared Error (RMSE): 1.926943100806656 \n",
      "\n",
      "\n",
      "Length of pred_df 107\n",
      "                  Open        High         Low       Close\n",
      "Date                                                      \n",
      "2023-01-06   87.627747   88.672195   86.507454   87.741325\n",
      "2023-01-09   87.513924   88.528198   86.387085   87.575645\n",
      "2023-01-10   89.330292   90.308540   88.290634   89.357361\n",
      "2023-01-11   88.696495   89.678871   87.639061   88.751854\n",
      "2023-01-12   91.254524   92.295708   90.311226   91.283852\n",
      "...                ...         ...         ...         ...\n",
      "2023-06-05  124.721352  126.336197  123.712105  124.877907\n",
      "2023-06-06  125.636986  127.207664  124.553085  125.698128\n",
      "2023-06-07  127.074539  128.563400  125.932327  127.055435\n",
      "2023-06-08  124.145035  125.813858  122.921928  124.231758\n",
      "2023-06-09  121.829094  123.625671  120.575478  122.129364\n",
      "\n",
      "[107 rows x 4 columns]\n",
      "Length of testplot_df 107\n",
      "                  Open        High         Low       Close\n",
      "Date                                                      \n",
      "2023-01-06   86.790001   87.690002   84.860001   87.339996\n",
      "2023-01-09   88.360001   90.050003   87.860001   88.019997\n",
      "2023-01-10   85.980003   88.669998   85.830002   88.419998\n",
      "2023-01-11   89.180000   91.599998   89.010002   91.519997\n",
      "2023-01-12   91.480003   91.870003   89.750000   91.129997\n",
      "...                ...         ...         ...         ...\n",
      "2023-06-05  124.010002  127.430000  123.839996  126.010002\n",
      "2023-06-06  126.010002  128.289993  125.360001  127.309998\n",
      "2023-06-07  126.970001  129.039993  122.120003  122.500000\n",
      "2023-06-08  122.230003  123.230003  121.239998  122.139999\n",
      "2023-06-09  122.250000  123.760002  121.910004  122.230003\n",
      "\n",
      "[107 rows x 4 columns]\n"
     ]
    },
    {
     "data": {
      "image/png": "[encoded data removed]",
      "text/plain": [
       "<Figure size 1000x600 with 1 Axes>"
      ]
     },
     "metadata": {},
     "output_type": "display_data"
    }
   ],
   "source": [
    "eg_df, date_index, pred_df, testplot_df = stockpipe(stock_df, given_size=0.85)"
   ]
  },
  {
   "cell_type": "code",
   "execution_count": 42,
   "metadata": {
    "colab": {
     "base_uri": "https://localhost:8080/"
    },
    "id": "JPZF2Wsz68bt",
    "outputId": "a41b7f63-4720-4b63-f029-aa5f4ad6fb13",
    "tags": []
   },
   "outputs": [
    {
     "name": "stdout",
     "output_type": "stream",
     "text": [
      "                  Open        High         Low       Close    Term\n",
      "Date                                                              \n",
      "2020-06-26   71.631500   71.850998   67.750000   68.126999 -0.3818\n",
      "2020-06-29   68.016998   69.900002   67.582497   69.858498  0.0000\n",
      "2020-06-30   69.844002   71.199997   69.346497   70.902496  0.4404\n",
      "2020-07-01   70.958504   72.424004   70.709000   72.099998  0.0000\n",
      "2020-07-02   72.592003   74.426003   72.553497   73.496498  0.0000\n",
      "...                ...         ...         ...         ...     ...\n",
      "2023-06-05  124.010002  127.430000  123.839996  126.010002  0.0000\n",
      "2023-06-06  126.010002  128.289993  125.360001  127.309998  0.0000\n",
      "2023-06-07  126.970001  129.039993  122.120003  122.500000  0.0000\n",
      "2023-06-08  122.230003  123.230003  121.239998  122.139999  0.0000\n",
      "2023-06-09  122.250000  123.760002  121.910004  122.230003  0.0000\n",
      "\n",
      "[744 rows x 5 columns]\n"
     ]
    }
   ],
   "source": [
    "print(eg_df)"
   ]
  },
  {
   "cell_type": "code",
   "execution_count": 80,
   "metadata": {
    "colab": {
     "base_uri": "https://localhost:8080/"
    },
    "id": "bQOg3Z_7khEe",
    "outputId": "28dcefaf-90a7-408d-93a4-ea26202ad077",
    "tags": []
   },
   "outputs": [
    {
     "name": "stdout",
     "output_type": "stream",
     "text": [
      "R2 score for daily High: 0.96885\n",
      "R2 score for Opening price: 0.98071\n"
     ]
    }
   ],
   "source": [
    "from sklearn.metrics import mean_absolute_percentage_error, r2_score\n",
    "\n",
    "merged_df = pd.merge(pred_df, testplot_df, on=pred_df.index)\n",
    "\n",
    "#mape_1 = mean_absolute_percentage_error(merged_df['High_x'], merged_df['High_y'])\n",
    "#mape_2 = mean_absolute_percentage_error(merged_df['Open_x'], merged_df['Open_y'])\n",
    "r2_1 = r2_score(merged_df['High_x'], merged_df['High_y'])\n",
    "r2_2 = r2_score(merged_df['Open_x'], merged_df['Open_y'])\n",
    "\n",
    "#print(f\"MAPE for daily High: {mape_1:.2f}\")\n",
    "#print(f\"MAPE for Opening price: {mape_2:.2f}\")\n",
    "print(f\"R2 score for daily High: {r2_1:.5f}\")\n",
    "print(f\"R2 score for Opening price: {r2_2:.5f}\")\n",
    "\n",
    "### R2 scores are  the amount of the variation in the output dependent attribute which is predictable from the input independent variable(s). \n",
    "###It is used to check how well-observed results are reproduced by the model, depending on the ratio of total deviation of results described by the model. "
   ]
  },
  {
   "cell_type": "code",
   "execution_count": 81,
   "metadata": {
    "id": "grYpZa_JlDoP",
    "tags": []
   },
   "outputs": [
    {
     "ename": "TypeError",
     "evalue": "string indices must be integers, not 'str'",
     "output_type": "error",
     "traceback": [
      "\u001b[1;31m---------------------------------------------------------------------------\u001b[0m",
      "\u001b[1;31mTypeError\u001b[0m                                 Traceback (most recent call last)",
      "Cell \u001b[1;32mIn[81], line 3\u001b[0m\n\u001b[0;32m      1\u001b[0m n \u001b[38;5;241m=\u001b[39m \u001b[38;5;241m0\u001b[39m\n\u001b[0;32m      2\u001b[0m \u001b[38;5;28;01mfor\u001b[39;00m x \u001b[38;5;129;01min\u001b[39;00m score_df:\n\u001b[1;32m----> 3\u001b[0m     \u001b[38;5;28;01mif\u001b[39;00m \u001b[43mx\u001b[49m\u001b[43m[\u001b[49m\u001b[38;5;124;43m'\u001b[39;49m\u001b[38;5;124;43mTerm\u001b[39;49m\u001b[38;5;124;43m'\u001b[39;49m\u001b[43m]\u001b[49m \u001b[38;5;241m==\u001b[39m \u001b[38;5;241m0\u001b[39m:\n\u001b[0;32m      4\u001b[0m         n\u001b[38;5;241m+\u001b[39m\u001b[38;5;241m=\u001b[39m\u001b[38;5;241m1\u001b[39m\n",
      "\u001b[1;31mTypeError\u001b[0m: string indices must be integers, not 'str'"
     ]
    }
   ],
   "source": [
    "n = 0\n",
    "for x in score_df:\n",
    "    if x['Term'] == 0:\n",
    "        n+=1"
   ]
  },
  {
   "cell_type": "code",
   "execution_count": 87,
   "metadata": {
    "tags": []
   },
   "outputs": [
    {
     "data": {
      "text/plain": [
       "1000"
      ]
     },
     "execution_count": 87,
     "metadata": {},
     "output_type": "execute_result"
    }
   ],
   "source": [
    "len(score_df.loc[score_df['Term'] == 0])"
   ]
  },
  {
   "cell_type": "code",
   "execution_count": 85,
   "metadata": {
    "tags": []
   },
   "outputs": [
    {
     "data": {
      "text/plain": [
       "1095"
      ]
     },
     "execution_count": 85,
     "metadata": {},
     "output_type": "execute_result"
    }
   ],
   "source": [
    "len(score_df)"
   ]
  },
  {
   "cell_type": "code",
   "execution_count": 86,
   "metadata": {
    "tags": []
   },
   "outputs": [
    {
     "data": {
      "text/html": [
       "<div>\n",
       "<style scoped>\n",
       "    .dataframe tbody tr th:only-of-type {\n",
       "        vertical-align: middle;\n",
       "    }\n",
       "\n",
       "    .dataframe tbody tr th {\n",
       "        vertical-align: top;\n",
       "    }\n",
       "\n",
       "    .dataframe thead th {\n",
       "        text-align: right;\n",
       "    }\n",
       "</style>\n",
       "<table border=\"1\" class=\"dataframe\">\n",
       "  <thead>\n",
       "    <tr style=\"text-align: right;\">\n",
       "      <th></th>\n",
       "      <th>Overall</th>\n",
       "      <th>Term</th>\n",
       "    </tr>\n",
       "  </thead>\n",
       "  <tbody>\n",
       "    <tr>\n",
       "      <th>count</th>\n",
       "      <td>1095.000000</td>\n",
       "      <td>1095.000000</td>\n",
       "    </tr>\n",
       "    <tr>\n",
       "      <th>mean</th>\n",
       "      <td>-0.018100</td>\n",
       "      <td>-0.000922</td>\n",
       "    </tr>\n",
       "    <tr>\n",
       "      <th>std</th>\n",
       "      <td>0.050819</td>\n",
       "      <td>0.100315</td>\n",
       "    </tr>\n",
       "    <tr>\n",
       "      <th>min</th>\n",
       "      <td>-0.211311</td>\n",
       "      <td>-0.709600</td>\n",
       "    </tr>\n",
       "    <tr>\n",
       "      <th>25%</th>\n",
       "      <td>-0.052157</td>\n",
       "      <td>0.000000</td>\n",
       "    </tr>\n",
       "    <tr>\n",
       "      <th>50%</th>\n",
       "      <td>-0.016408</td>\n",
       "      <td>0.000000</td>\n",
       "    </tr>\n",
       "    <tr>\n",
       "      <th>75%</th>\n",
       "      <td>0.014720</td>\n",
       "      <td>0.000000</td>\n",
       "    </tr>\n",
       "    <tr>\n",
       "      <th>max</th>\n",
       "      <td>0.143991</td>\n",
       "      <td>0.765000</td>\n",
       "    </tr>\n",
       "  </tbody>\n",
       "</table>\n",
       "</div>"
      ],
      "text/plain": [
       "           Overall         Term\n",
       "count  1095.000000  1095.000000\n",
       "mean     -0.018100    -0.000922\n",
       "std       0.050819     0.100315\n",
       "min      -0.211311    -0.709600\n",
       "25%      -0.052157     0.000000\n",
       "50%      -0.016408     0.000000\n",
       "75%       0.014720     0.000000\n",
       "max       0.143991     0.765000"
      ]
     },
     "execution_count": 86,
     "metadata": {},
     "output_type": "execute_result"
    }
   ],
   "source": [
    "score_df.describe()"
   ]
  },
  {
   "cell_type": "code",
   "execution_count": null,
   "metadata": {},
   "outputs": [],
   "source": []
  }
 ],
 "metadata": {
  "colab": {
   "provenance": []
  },
  "kernelspec": {
   "display_name": "Python 3 (ipykernel)",
   "language": "python",
   "name": "python3"
  },
  "language_info": {
   "codemirror_mode": {
    "name": "ipython",
    "version": 3
   },
   "file_extension": ".py",
   "mimetype": "text/x-python",
   "name": "python",
   "nbconvert_exporter": "python",
   "pygments_lexer": "ipython3",
   "version": "3.11.3"
  }
 },
 "nbformat": 4,
 "nbformat_minor": 4
}
