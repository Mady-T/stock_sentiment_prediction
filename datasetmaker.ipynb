{
 "cells": [
  {
   "cell_type": "code",
   "execution_count": 2,
   "id": "f7f5eafd-ed56-4c59-b14e-3eb3c8105cbc",
   "metadata": {
    "tags": []
   },
   "outputs": [],
   "source": [
    "from bs4 import BeautifulSoup\n",
    "from datetime import date, timedelta\n",
    "from os.path import exists\n",
    "import pandas as pd"
   ]
  },
  {
   "cell_type": "code",
   "execution_count": 3,
   "id": "17c4db31-bfcf-4ec7-a154-d0711f2a6f45",
   "metadata": {
    "tags": []
   },
   "outputs": [
    {
     "name": "stdout",
     "output_type": "stream",
     "text": [
      "2023-06-21\n"
     ]
    }
   ],
   "source": [
    "today = date.today()\n",
    "oneday = timedelta(days=1)\n",
    "print(today)"
   ]
  },
  {
   "cell_type": "code",
   "execution_count": 14,
   "id": "2f5feccf-2cef-426a-9ad0-1e8db389933d",
   "metadata": {
    "tags": []
   },
   "outputs": [
    {
     "name": "stdout",
     "output_type": "stream",
     "text": [
      "Out of bounds\n",
      "Out of bounds\n"
     ]
    }
   ],
   "source": [
    "day = today+oneday\n",
    "news_df = pd.DataFrame(columns = ['title','category','date','url'])\n",
    "for i in range(25*365+177):    \n",
    "    day = day - oneday\n",
    "    fileurl = 'wsj/'+str(day)+'.html'\n",
    "    if exists(fileurl):\n",
    "        with open(fileurl, 'rb') as f:\n",
    "            html = f.read()\n",
    "        soup = BeautifulSoup(html, 'html.parser')\n",
    "        #artlist = soup.find_all('span', class_='WSJTheme--headlineText--He1ANr9C')\n",
    "        sectionlist = soup.find_all('div', class_='WSJTheme--overflow-hidden--qJmlzHgO')\n",
    "        for section in sectionlist:\n",
    "            art = section.find('span', class_='WSJTheme--headlineText--He1ANr9C')\n",
    "            cat = section.find('div', class_='WSJTheme--articleType--34Gt-vdG')\n",
    "            if cat != None:\n",
    "                cat = cat.text\n",
    "        #for art in artlist:\n",
    "            news_df.loc[len(news_df)] = [art.text,cat, day, art.parent['href']]\n",
    "    else:\n",
    "        print(\"Out of bounds\")"
   ]
  },
  {
   "cell_type": "code",
   "execution_count": 20,
   "id": "be456801-1de5-44c8-9a05-1e5bbb750710",
   "metadata": {
    "tags": []
   },
   "outputs": [
    {
     "data": {
      "text/html": [
       "<div>\n",
       "<style scoped>\n",
       "    .dataframe tbody tr th:only-of-type {\n",
       "        vertical-align: middle;\n",
       "    }\n",
       "\n",
       "    .dataframe tbody tr th {\n",
       "        vertical-align: top;\n",
       "    }\n",
       "\n",
       "    .dataframe thead th {\n",
       "        text-align: right;\n",
       "    }\n",
       "</style>\n",
       "<table border=\"1\" class=\"dataframe\">\n",
       "  <thead>\n",
       "    <tr style=\"text-align: right;\">\n",
       "      <th></th>\n",
       "      <th>title</th>\n",
       "      <th>category</th>\n",
       "      <th>date</th>\n",
       "      <th>url</th>\n",
       "    </tr>\n",
       "  </thead>\n",
       "  <tbody>\n",
       "    <tr>\n",
       "      <th>0</th>\n",
       "      <td>CPI Report Shows Inflation Has Been Cut in Half</td>\n",
       "      <td>U.S. Economy</td>\n",
       "      <td>2023-06-13</td>\n",
       "      <td>https://www.wsj.com/articles/consumer-price-in...</td>\n",
       "    </tr>\n",
       "    <tr>\n",
       "      <th>1</th>\n",
       "      <td>U.S. Warned Ukraine Not to Attack Nord Stream</td>\n",
       "      <td>◆ WSJ News Exclusive</td>\n",
       "      <td>2023-06-13</td>\n",
       "      <td>https://www.wsj.com/articles/u-s-warned-ukrain...</td>\n",
       "    </tr>\n",
       "    <tr>\n",
       "      <th>2</th>\n",
       "      <td>Putin Says Russia Loses Tanks as Ukraine Steps...</td>\n",
       "      <td>Europe</td>\n",
       "      <td>2023-06-13</td>\n",
       "      <td>https://www.wsj.com/articles/putin-says-russia...</td>\n",
       "    </tr>\n",
       "    <tr>\n",
       "      <th>3</th>\n",
       "      <td>Tesla Doesn’t See Higher-Volume Production of ...</td>\n",
       "      <td>Autos Industry</td>\n",
       "      <td>2023-06-13</td>\n",
       "      <td>https://www.wsj.com/articles/tesla-doesnt-see-...</td>\n",
       "    </tr>\n",
       "    <tr>\n",
       "      <th>4</th>\n",
       "      <td>Spy Tool Helped FBI Solve Pipeline Hack, Other...</td>\n",
       "      <td>National Security</td>\n",
       "      <td>2023-06-13</td>\n",
       "      <td>https://www.wsj.com/articles/spy-tool-helped-f...</td>\n",
       "    </tr>\n",
       "    <tr>\n",
       "      <th>...</th>\n",
       "      <td>...</td>\n",
       "      <td>...</td>\n",
       "      <td>...</td>\n",
       "      <td>...</td>\n",
       "    </tr>\n",
       "    <tr>\n",
       "      <th>51729</th>\n",
       "      <td>Frustrated Stock-Market Skeptics Stick With Ca...</td>\n",
       "      <td>Stocks</td>\n",
       "      <td>2020-06-14</td>\n",
       "      <td>https://www.wsj.com/articles/frustrated-stock-...</td>\n",
       "    </tr>\n",
       "    <tr>\n",
       "      <th>51730</th>\n",
       "      <td>China a Bright Spot for U.S. in Global Trade</td>\n",
       "      <td>Politics</td>\n",
       "      <td>2020-06-14</td>\n",
       "      <td>https://www.wsj.com/articles/china-a-bright-sp...</td>\n",
       "    </tr>\n",
       "    <tr>\n",
       "      <th>51731</th>\n",
       "      <td>Signal: The Pros and Cons of a Truly Private C...</td>\n",
       "      <td>Personal Technology</td>\n",
       "      <td>2020-06-14</td>\n",
       "      <td>https://www.wsj.com/articles/signal-the-pros-a...</td>\n",
       "    </tr>\n",
       "    <tr>\n",
       "      <th>51732</th>\n",
       "      <td>How to Network When You Can’t Meet Up With People</td>\n",
       "      <td>Journal Reports: Leadership</td>\n",
       "      <td>2020-06-14</td>\n",
       "      <td>https://www.wsj.com/articles/how-to-network-wh...</td>\n",
       "    </tr>\n",
       "    <tr>\n",
       "      <th>51733</th>\n",
       "      <td>Key Financier of Venezuela’s Maduro Regime Arr...</td>\n",
       "      <td>Latin America</td>\n",
       "      <td>2020-06-14</td>\n",
       "      <td>https://www.wsj.com/articles/key-financier-of-...</td>\n",
       "    </tr>\n",
       "  </tbody>\n",
       "</table>\n",
       "<p>51734 rows × 4 columns</p>\n",
       "</div>"
      ],
      "text/plain": [
       "                                                   title   \n",
       "0        CPI Report Shows Inflation Has Been Cut in Half  \\\n",
       "1          U.S. Warned Ukraine Not to Attack Nord Stream   \n",
       "2      Putin Says Russia Loses Tanks as Ukraine Steps...   \n",
       "3      Tesla Doesn’t See Higher-Volume Production of ...   \n",
       "4      Spy Tool Helped FBI Solve Pipeline Hack, Other...   \n",
       "...                                                  ...   \n",
       "51729  Frustrated Stock-Market Skeptics Stick With Ca...   \n",
       "51730       China a Bright Spot for U.S. in Global Trade   \n",
       "51731  Signal: The Pros and Cons of a Truly Private C...   \n",
       "51732  How to Network When You Can’t Meet Up With People   \n",
       "51733  Key Financier of Venezuela’s Maduro Regime Arr...   \n",
       "\n",
       "                           category        date   \n",
       "0                      U.S. Economy  2023-06-13  \\\n",
       "1              ◆ WSJ News Exclusive  2023-06-13   \n",
       "2                            Europe  2023-06-13   \n",
       "3                    Autos Industry  2023-06-13   \n",
       "4                 National Security  2023-06-13   \n",
       "...                             ...         ...   \n",
       "51729                        Stocks  2020-06-14   \n",
       "51730                      Politics  2020-06-14   \n",
       "51731           Personal Technology  2020-06-14   \n",
       "51732   Journal Reports: Leadership  2020-06-14   \n",
       "51733                 Latin America  2020-06-14   \n",
       "\n",
       "                                                     url  \n",
       "0      https://www.wsj.com/articles/consumer-price-in...  \n",
       "1      https://www.wsj.com/articles/u-s-warned-ukrain...  \n",
       "2      https://www.wsj.com/articles/putin-says-russia...  \n",
       "3      https://www.wsj.com/articles/tesla-doesnt-see-...  \n",
       "4      https://www.wsj.com/articles/spy-tool-helped-f...  \n",
       "...                                                  ...  \n",
       "51729  https://www.wsj.com/articles/frustrated-stock-...  \n",
       "51730  https://www.wsj.com/articles/china-a-bright-sp...  \n",
       "51731  https://www.wsj.com/articles/signal-the-pros-a...  \n",
       "51732  https://www.wsj.com/articles/how-to-network-wh...  \n",
       "51733  https://www.wsj.com/articles/key-financier-of-...  \n",
       "\n",
       "[51734 rows x 4 columns]"
      ]
     },
     "execution_count": 20,
     "metadata": {},
     "output_type": "execute_result"
    }
   ],
   "source": [
    "news_df"
   ]
  },
  {
   "cell_type": "code",
   "execution_count": 10,
   "id": "73a68a23-568d-4316-8c5d-ba752b11c396",
   "metadata": {
    "tags": []
   },
   "outputs": [],
   "source": [
    "news_df.to_csv('WSJ_Headlines.csv', index=False)"
   ]
  },
  {
   "cell_type": "code",
   "execution_count": 23,
   "id": "8651ad82-b100-42e5-8eb3-e9b38637576d",
   "metadata": {
    "tags": []
   },
   "outputs": [
    {
     "name": "stdout",
     "output_type": "stream",
     "text": [
      "category\n",
      " Review & Outlook                 3370\n",
      " U.S.                             3216\n",
      " Commentary                       3141\n",
      " Letters                          3081\n",
      " Business                         2696\n",
      "                                  ... \n",
      " Personal Tech |  Dalvin Brown       1\n",
      " market makers                       1\n",
      " Personal Tech | Joanna Stern        1\n",
      " Personal Tech | NICOLE NGUYEN       1\n",
      " Exclusive Excerpt                   1\n",
      "Name: count, Length: 567, dtype: int64\n"
     ]
    }
   ],
   "source": [
    "print(news_df.category.value_counts())"
   ]
  },
  {
   "cell_type": "code",
   "execution_count": 8,
   "id": "5639dfd3-237b-4324-b20c-ef5d5d02949a",
   "metadata": {},
   "outputs": [],
   "source": [
    "news_df = pd.read_csv('WSJ_25y_Headlines.csv')\n",
    "day = today - oneday*(25*365+177)\n",
    "fileurl = 'wsj/'+str(day)+'.html'\n",
    "if exists(fileurl):\n",
    "    with open(fileurl, 'rb') as f:\n",
    "        html = f.read()\n",
    "    soup = BeautifulSoup(html, 'html.parser')\n",
    "    #artlist = soup.find_all('span', class_='WSJTheme--headlineText--He1ANr9C')\n",
    "    sectionlist = soup.find_all('div', class_='WSJTheme--overflow-hidden--qJmlzHgO')\n",
    "    for section in sectionlist:\n",
    "        art = section.find('span', class_='WSJTheme--headlineText--He1ANr9C')\n",
    "        cat = section.find('div', class_='WSJTheme--articleType--34Gt-vdG')\n",
    "        if cat != None:\n",
    "            cat = cat.text\n",
    "    #for art in artlist:\n",
    "        news_df.loc[len(news_df)] = [art.text,cat, day, art.parent['href']]"
   ]
  },
  {
   "cell_type": "code",
   "execution_count": 9,
   "id": "a29a17c5-63cf-45cb-82d8-f54b0abbb61b",
   "metadata": {
    "tags": []
   },
   "outputs": [
    {
     "data": {
      "text/html": [
       "<div>\n",
       "<style scoped>\n",
       "    .dataframe tbody tr th:only-of-type {\n",
       "        vertical-align: middle;\n",
       "    }\n",
       "\n",
       "    .dataframe tbody tr th {\n",
       "        vertical-align: top;\n",
       "    }\n",
       "\n",
       "    .dataframe thead th {\n",
       "        text-align: right;\n",
       "    }\n",
       "</style>\n",
       "<table border=\"1\" class=\"dataframe\">\n",
       "  <thead>\n",
       "    <tr style=\"text-align: right;\">\n",
       "      <th></th>\n",
       "      <th>title</th>\n",
       "      <th>category</th>\n",
       "      <th>date</th>\n",
       "      <th>url</th>\n",
       "    </tr>\n",
       "  </thead>\n",
       "  <tbody>\n",
       "    <tr>\n",
       "      <th>0</th>\n",
       "      <td>EU Proposes $55 Billion Economic Support Packa...</td>\n",
       "      <td>Europe</td>\n",
       "      <td>2023-06-20</td>\n",
       "      <td>https://www.wsj.com/articles/eu-proposes-55-bi...</td>\n",
       "    </tr>\n",
       "    <tr>\n",
       "      <th>1</th>\n",
       "      <td>How the Worst Drought in a Century Is Changing...</td>\n",
       "      <td>Latin America</td>\n",
       "      <td>2023-06-20</td>\n",
       "      <td>https://www.wsj.com/articles/how-the-worst-dro...</td>\n",
       "    </tr>\n",
       "    <tr>\n",
       "      <th>2</th>\n",
       "      <td>‘Quiet Luxury’ Finds a Loud Debate</td>\n",
       "      <td>On Trend</td>\n",
       "      <td>2023-06-20</td>\n",
       "      <td>https://www.wsj.com/articles/quiet-luxury-fash...</td>\n",
       "    </tr>\n",
       "    <tr>\n",
       "      <th>3</th>\n",
       "      <td>Are Lawmakers Seeking Healthy Limits on Junk F...</td>\n",
       "      <td>Politics</td>\n",
       "      <td>2023-06-20</td>\n",
       "      <td>https://www.wsj.com/articles/are-lawmakers-see...</td>\n",
       "    </tr>\n",
       "    <tr>\n",
       "      <th>4</th>\n",
       "      <td>Beijing Plans New Military Training Facility i...</td>\n",
       "      <td>◆ WSJ News Exclusive</td>\n",
       "      <td>2023-06-20</td>\n",
       "      <td>https://www.wsj.com/articles/beijing-plans-a-n...</td>\n",
       "    </tr>\n",
       "    <tr>\n",
       "      <th>...</th>\n",
       "      <td>...</td>\n",
       "      <td>...</td>\n",
       "      <td>...</td>\n",
       "      <td>...</td>\n",
       "    </tr>\n",
       "    <tr>\n",
       "      <th>418649</th>\n",
       "      <td>Lorillard Partially Resolves Suit</td>\n",
       "      <td>None</td>\n",
       "      <td>1998-01-01</td>\n",
       "      <td>https://www.wsj.com/articles/SB883601617607998500</td>\n",
       "    </tr>\n",
       "    <tr>\n",
       "      <th>418650</th>\n",
       "      <td>Morgan Stanley Had\\nMost Completed Deals</td>\n",
       "      <td>None</td>\n",
       "      <td>1998-01-01</td>\n",
       "      <td>https://www.wsj.com/articles/SB883610630992574000</td>\n",
       "    </tr>\n",
       "    <tr>\n",
       "      <th>418651</th>\n",
       "      <td>Merrill Lynch Tops\\nStock Underwriters</td>\n",
       "      <td>None</td>\n",
       "      <td>1998-01-01</td>\n",
       "      <td>https://www.wsj.com/articles/SB883608102449425500</td>\n",
       "    </tr>\n",
       "    <tr>\n",
       "      <th>418652</th>\n",
       "      <td>Netscape Shares Fall\\nOn Fears of Surprise</td>\n",
       "      <td>None</td>\n",
       "      <td>1998-01-01</td>\n",
       "      <td>https://www.wsj.com/articles/SB883608136976834500</td>\n",
       "    </tr>\n",
       "    <tr>\n",
       "      <th>418653</th>\n",
       "      <td>PowerTools to Shut Down</td>\n",
       "      <td>None</td>\n",
       "      <td>1998-01-01</td>\n",
       "      <td>https://www.wsj.com/articles/SB883608538598373500</td>\n",
       "    </tr>\n",
       "  </tbody>\n",
       "</table>\n",
       "<p>418654 rows × 4 columns</p>\n",
       "</div>"
      ],
      "text/plain": [
       "                                                    title   \n",
       "0       EU Proposes $55 Billion Economic Support Packa...  \\\n",
       "1       How the Worst Drought in a Century Is Changing...   \n",
       "2                      ‘Quiet Luxury’ Finds a Loud Debate   \n",
       "3       Are Lawmakers Seeking Healthy Limits on Junk F...   \n",
       "4       Beijing Plans New Military Training Facility i...   \n",
       "...                                                   ...   \n",
       "418649                  Lorillard Partially Resolves Suit   \n",
       "418650           Morgan Stanley Had\\nMost Completed Deals   \n",
       "418651             Merrill Lynch Tops\\nStock Underwriters   \n",
       "418652         Netscape Shares Fall\\nOn Fears of Surprise   \n",
       "418653                            PowerTools to Shut Down   \n",
       "\n",
       "                    category        date   \n",
       "0                     Europe  2023-06-20  \\\n",
       "1              Latin America  2023-06-20   \n",
       "2                   On Trend  2023-06-20   \n",
       "3                   Politics  2023-06-20   \n",
       "4       ◆ WSJ News Exclusive  2023-06-20   \n",
       "...                      ...         ...   \n",
       "418649                  None  1998-01-01   \n",
       "418650                  None  1998-01-01   \n",
       "418651                  None  1998-01-01   \n",
       "418652                  None  1998-01-01   \n",
       "418653                  None  1998-01-01   \n",
       "\n",
       "                                                      url  \n",
       "0       https://www.wsj.com/articles/eu-proposes-55-bi...  \n",
       "1       https://www.wsj.com/articles/how-the-worst-dro...  \n",
       "2       https://www.wsj.com/articles/quiet-luxury-fash...  \n",
       "3       https://www.wsj.com/articles/are-lawmakers-see...  \n",
       "4       https://www.wsj.com/articles/beijing-plans-a-n...  \n",
       "...                                                   ...  \n",
       "418649  https://www.wsj.com/articles/SB883601617607998500  \n",
       "418650  https://www.wsj.com/articles/SB883610630992574000  \n",
       "418651  https://www.wsj.com/articles/SB883608102449425500  \n",
       "418652  https://www.wsj.com/articles/SB883608136976834500  \n",
       "418653  https://www.wsj.com/articles/SB883608538598373500  \n",
       "\n",
       "[418654 rows x 4 columns]"
      ]
     },
     "execution_count": 9,
     "metadata": {},
     "output_type": "execute_result"
    }
   ],
   "source": [
    "news_df"
   ]
  },
  {
   "cell_type": "code",
   "execution_count": 6,
   "id": "62eed3ef-164c-4991-ae10-b4521f4490ec",
   "metadata": {
    "tags": []
   },
   "outputs": [
    {
     "data": {
      "text/plain": [
       "datetime.date(1998, 1, 1)"
      ]
     },
     "execution_count": 6,
     "metadata": {},
     "output_type": "execute_result"
    }
   ],
   "source": [
    "today - oneday*(25*365+177)"
   ]
  },
  {
   "cell_type": "code",
   "execution_count": 10,
   "id": "cb97808b-288b-46b8-aa4f-3c8052882c01",
   "metadata": {
    "tags": []
   },
   "outputs": [
    {
     "data": {
      "text/plain": [
       "datetime.date"
      ]
     },
     "execution_count": 10,
     "metadata": {},
     "output_type": "execute_result"
    }
   ],
   "source": [
    "type(today)"
   ]
  },
  {
   "cell_type": "code",
   "execution_count": 15,
   "id": "dc1cc9aa-d223-4fa4-b3ee-1f934abd037b",
   "metadata": {},
   "outputs": [
    {
     "data": {
      "text/plain": [
       "Index(['title', 'category', 'url'], dtype='object')"
      ]
     },
     "execution_count": 15,
     "metadata": {},
     "output_type": "execute_result"
    }
   ],
   "source": [
    "news_df.set_index('date').columns"
   ]
  },
  {
   "cell_type": "code",
   "execution_count": 17,
   "id": "740e55f5-2ea2-4101-ae7c-eeafd2204641",
   "metadata": {
    "tags": []
   },
   "outputs": [
    {
     "name": "stdout",
     "output_type": "stream",
     "text": [
      "7.28 ms ± 134 µs per loop (mean ± std. dev. of 7 runs, 100 loops each)\n"
     ]
    }
   ],
   "source": [
    "%%timeit \n",
    "for i in range(1000): \n",
    "    try:\n",
    "        news_df[day]\n",
    "    except:\n",
    "        pass"
   ]
  },
  {
   "cell_type": "code",
   "execution_count": null,
   "id": "7369b4e5-1065-45cd-b1c7-5e5517c6e7d3",
   "metadata": {},
   "outputs": [],
   "source": []
  }
 ],
 "metadata": {
  "kernelspec": {
   "display_name": "Python 3 (ipykernel)",
   "language": "python",
   "name": "python3"
  },
  "language_info": {
   "codemirror_mode": {
    "name": "ipython",
    "version": 3
   },
   "file_extension": ".py",
   "mimetype": "text/x-python",
   "name": "python",
   "nbconvert_exporter": "python",
   "pygments_lexer": "ipython3",
   "version": "3.11.3"
  }
 },
 "nbformat": 4,
 "nbformat_minor": 5
}
