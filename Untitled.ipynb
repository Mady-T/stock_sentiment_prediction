{
 "cells": [
  {
   "cell_type": "code",
   "execution_count": 1,
   "id": "86a65cf9-7f4c-4713-81ae-2c0df93f7b7f",
   "metadata": {
    "tags": []
   },
   "outputs": [
    {
     "name": "stderr",
     "output_type": "stream",
     "text": [
      "[nltk_data] Downloading package punkt to\n",
      "[nltk_data]     C:\\Users\\adith\\AppData\\Roaming\\nltk_data...\n",
      "[nltk_data]   Package punkt is already up-to-date!\n"
     ]
    },
    {
     "data": {
      "text/plain": [
       "True"
      ]
     },
     "execution_count": 1,
     "metadata": {},
     "output_type": "execute_result"
    }
   ],
   "source": [
    "import newspaper\n",
    "import nltk\n",
    "nltk.download('punkt')"
   ]
  },
  {
   "cell_type": "code",
   "execution_count": 2,
   "id": "93d96460-061c-4767-b086-b8720ffd90b4",
   "metadata": {
    "tags": []
   },
   "outputs": [
    {
     "name": "stdout",
     "output_type": "stream",
     "text": [
      "elim category url /account/settings for >1 path chunks or size path chunks\n",
      "elim category url /account/my-news?iid=fw_var-nav for >1 path chunks or size path chunks\n",
      "elim category url # path starts with #\n",
      "elim category url # path starts with #\n",
      "elim category url /account/settings for >1 path chunks or size path chunks\n",
      "elim category url /account/my-news?iid=fw_var-nav for >1 path chunks or size path chunks\n",
      "elim category url # path starts with #\n",
      "elim category url # path starts with #\n",
      "elim category url https://bleacherreport.com/nhl for domain mismatch\n",
      "elim category url https://careers.wbd.com/cnnjobs for domain mismatch\n",
      "elim category url https://facebook.com/CNN for domain mismatch\n",
      "elim category url https://twitter.com/CNN for domain mismatch\n",
      "elim category url https://instagram.com/CNN for domain mismatch\n",
      "elim category url /2023/06/11/europe/ukraine-life-under-russian-occupation-melitopol-intl-cmd/index.html for >1 path chunks or size path chunks\n",
      "elim category url /2023/06/10/europe/us-citizen-detained-russia-intl-hnk/index.html for >1 path chunks or size path chunks\n",
      "elim category url /2023/06/11/world/colombia-missing-children-how-they-survived-intl-hnk/index.html for >1 path chunks or size path chunks\n",
      "elim category url /2023/06/11/asia/jocelyn-chia-mh370-joke-singapore-apologizes-intl-hnk/index.html for >1 path chunks or size path chunks\n",
      "elim category url /2023/06/10/asia/taiwan-metoo-netflix-wave-makers-intl-hnk/index.html for >1 path chunks or size path chunks\n",
      "elim category url /2023/06/10/sport/manchester-city-wins-champions-league-for-first-time-beating-inter-milan-1-0-in-tense-istanbul-final/index.html for >1 path chunks or size path chunks\n",
      "elim category url /2023/06/10/entertainment/gladiator-2-set-accident/index.html for >1 path chunks or size path chunks\n",
      "elim category url /2023/06/11/europe/kakhovka-dam-collapse-swimming-banned-intl-hnk/index.html for >1 path chunks or size path chunks\n",
      "elim category url /2023/06/11/europe/kakhovka-dam-collapse-swimming-banned-intl-hnk/index.html for >1 path chunks or size path chunks\n",
      "elim category url /europe/live-news/russia-ukraine-war-news-06-11-23/index.html for >1 path chunks or size path chunks\n",
      "elim category url /videos/world/2023/06/10/ukraine-facing-stiff-russian-resistance-kyiv-counteroffensive-pleitgen-dnt-ebof-vpx.cnn for >1 path chunks or size path chunks\n",
      "elim category url /2023/06/10/europe/ukraine-zelensky-counteroffensive-hint-intl/index.html for >1 path chunks or size path chunks\n",
      "elim category url /2023/06/10/europe/us-citizen-detained-russia-intl-hnk/index.html for >1 path chunks or size path chunks\n",
      "elim category url /2023/06/10/europe/us-citizen-detained-russia-intl-hnk/index.html for >1 path chunks or size path chunks\n",
      "elim category url /2023/06/11/europe/ukraine-life-under-russian-occupation-melitopol-intl-cmd/index.html for >1 path chunks or size path chunks\n",
      "elim category url /2023/06/11/world/colombia-missing-children-how-they-survived-intl-hnk/index.html for >1 path chunks or size path chunks\n",
      "elim category url /2023/06/11/world/colombia-missing-children-how-they-survived-intl-hnk/index.html for >1 path chunks or size path chunks\n",
      "elim category url /videos/world/2023/06/10/exp-colombia-children-found-stroud-intv-012020aseg1-cnn-world.cnn for >1 path chunks or size path chunks\n",
      "elim category url /2023/06/11/asia/jocelyn-chia-mh370-joke-singapore-apologizes-intl-hnk/index.html for >1 path chunks or size path chunks\n",
      "elim category url /2023/06/11/asia/jocelyn-chia-mh370-joke-singapore-apologizes-intl-hnk/index.html for >1 path chunks or size path chunks\n",
      "elim category url /2023/06/10/tennis/french-open-final-preview-djokovic-ruud-spt-intl/index.html for >1 path chunks or size path chunks\n",
      "elim category url /2023/06/10/asia/taiwan-metoo-netflix-wave-makers-intl-hnk/index.html for >1 path chunks or size path chunks\n",
      "elim category url /2023/06/11/europe/paris-france-olympics-mood-cmd-intl/index.html for >1 path chunks or size path chunks\n",
      "elim category url /2023/06/10/europe/france-ancient-stones-carnac-intl/index.html for >1 path chunks or size path chunks\n",
      "elim category url /2023/06/11/tech/twitter-elon-musk-social-movements-cec/index.html for >1 path chunks or size path chunks\n",
      "elim category url /2023/06/10/us/ted-kaczynski-unabomber-dead/index.html for >1 path chunks or size path chunks\n",
      "elim category url /2023/06/10/entertainment/gladiator-2-set-accident/index.html for >1 path chunks or size path chunks\n",
      "elim category url /2023/06/10/entertainment/gladiator-2-set-accident/index.html for >1 path chunks or size path chunks\n",
      "elim category url /2023/06/10/sport/manchester-city-wins-champions-league-for-first-time-beating-inter-milan-1-0-in-tense-istanbul-final/index.html for >1 path chunks or size path chunks\n",
      "elim category url /2023/06/09/weather/deadliest-tornadoes-us-southern-tornado-alley-dg/index.html for >1 path chunks or size path chunks\n",
      "elim category url /travel/travel-news-uk-eta-how-much-cost/index.html for >1 path chunks or size path chunks\n",
      "elim category url /2023/06/10/europe/boris-johnson-fall-analysis-uk-intl/index.html for >1 path chunks or size path chunks\n",
      "elim category url /2023/06/09/asia/air-conditioning-singapore-climate-change-intl-hnk-dst/index.html for >1 path chunks or size path chunks\n",
      "elim category url /2023/06/09/asia/air-conditioning-singapore-climate-change-intl-hnk-dst/index.html for >1 path chunks or size path chunks\n",
      "elim category url /travel/europe-crazy-tourism-summer/index.html for >1 path chunks or size path chunks\n",
      "elim category url /travel/europe-crazy-tourism-summer/index.html for >1 path chunks or size path chunks\n",
      "elim category url /travel/fairmont-maldives-sirru-fen-fushi-sustainability-lab/index.html for >1 path chunks or size path chunks\n",
      "elim category url /travel/fairmont-maldives-sirru-fen-fushi-sustainability-lab/index.html for >1 path chunks or size path chunks\n",
      "elim category url /travel/article/chaise-longue-double-level-airplane-seat-returns/index.html for >1 path chunks or size path chunks\n",
      "elim category url /travel/article/chaise-longue-double-level-airplane-seat-returns/index.html for >1 path chunks or size path chunks\n",
      "elim category url /2023/06/10/europe/berlusconi-back-in-hospital-italy-intl-hnk/index.html for >1 path chunks or size path chunks\n",
      "elim category url /2023/06/10/europe/berlusconi-back-in-hospital-italy-intl-hnk/index.html for >1 path chunks or size path chunks\n",
      "elim category url /2023/06/10/tech/silicon-valley-return-to-office-tensions/index.html for >1 path chunks or size path chunks\n",
      "elim category url /2023/06/10/tech/silicon-valley-return-to-office-tensions/index.html for >1 path chunks or size path chunks\n",
      "elim category url /videos/arts/2023/06/05/koltsova-ukrainian-children-deaths-sculptures-contd-lon-orig-na.cnn for >1 path chunks or size path chunks\n",
      "elim category url /videos/arts/2023/06/05/koltsova-ukrainian-children-deaths-sculptures-contd-lon-orig-na.cnn for >1 path chunks or size path chunks\n",
      "elim category url /2023/06/11/entertainment/spider-verse-gwen-stacy-trans-cec/index.html for >1 path chunks or size path chunks\n",
      "elim category url /2023/06/11/entertainment/spider-verse-gwen-stacy-trans-cec/index.html for >1 path chunks or size path chunks\n",
      "elim category url /2023/06/10/world/homo-naledi-science-newsletter-wt-scn/index.html for >1 path chunks or size path chunks\n",
      "elim category url /2023/06/10/world/homo-naledi-science-newsletter-wt-scn/index.html for >1 path chunks or size path chunks\n",
      "elim category url /2023/06/10/health/get-in-shape-summer-dangers-wellness/index.html for >1 path chunks or size path chunks\n",
      "elim category url /2023/06/10/health/get-in-shape-summer-dangers-wellness/index.html for >1 path chunks or size path chunks\n",
      "elim category url /2023/06/10/asia/rubber-duck-deflated-hong-kong-intl/index.html for >1 path chunks or size path chunks\n",
      "elim category url /2023/06/10/asia/rubber-duck-deflated-hong-kong-intl/index.html for >1 path chunks or size path chunks\n",
      "elim category url /travel/article/paris-rats-cohabitation-intl/index.html for >1 path chunks or size path chunks\n",
      "elim category url /travel/article/paris-rats-cohabitation-intl/index.html for >1 path chunks or size path chunks\n",
      "elim category url /2023/02/20/world/australian-handfish-photograph-c2e-spc-intl-scn/index.html for >1 path chunks or size path chunks\n",
      "elim category url /2023/02/20/world/australian-handfish-photograph-c2e-spc-intl-scn/index.html for >1 path chunks or size path chunks\n",
      "elim category url /2023/06/10/tech/apple-vision-pro-headsets-cool-factor/index.html for >1 path chunks or size path chunks\n",
      "elim category url /2023/06/10/tech/apple-vision-pro-headsets-cool-factor/index.html for >1 path chunks or size path chunks\n",
      "elim category url /travel/article/chris-fallows-wildlife-photographer-south-africa-spc-intl/index.html for >1 path chunks or size path chunks\n",
      "elim category url /travel/article/chris-fallows-wildlife-photographer-south-africa-spc-intl/index.html for >1 path chunks or size path chunks\n",
      "elim category url /2023/06/09/style/pete-davidson-transformers-premiere-red-carpet-lotw/index.html for >1 path chunks or size path chunks\n",
      "elim category url /2023/06/09/style/pete-davidson-transformers-premiere-red-carpet-lotw/index.html for >1 path chunks or size path chunks\n",
      "elim category url /2023/06/09/entertainment/jurassic-park-anniversary/index.html for >1 path chunks or size path chunks\n",
      "elim category url /2023/06/09/entertainment/jurassic-park-anniversary/index.html for >1 path chunks or size path chunks\n",
      "elim category url /videos/entertainment/2023/06/08/tom-holland-taking-acting-break-mental-health-the-crowded-room-sot-cprog-mwrmx-vpx.cnn for >1 path chunks or size path chunks\n",
      "elim category url /videos/entertainment/2023/06/08/tom-holland-taking-acting-break-mental-health-the-crowded-room-sot-cprog-mwrmx-vpx.cnn for >1 path chunks or size path chunks\n",
      "elim category url /2023/06/09/economy/us-inflation-high-prices-consumer-demand/index.html for >1 path chunks or size path chunks\n",
      "elim category url /2023/06/09/economy/us-inflation-high-prices-consumer-demand/index.html for >1 path chunks or size path chunks\n",
      "elim category url /2023/06/08/homes/affordable-homes-nar/index.html for >1 path chunks or size path chunks\n",
      "elim category url /2023/06/09/energy/uk-energy-windfall-tax-scrap/index.html for >1 path chunks or size path chunks\n",
      "elim category url /2023/06/08/investing/bull-market-story/index.html for >1 path chunks or size path chunks\n",
      "elim category url /2023/06/08/economy/household-wealth-net-worth/index.html for >1 path chunks or size path chunks\n",
      "elim category url /travel/article/chaise-longue-double-level-airplane-seat-returns/index.html for >1 path chunks or size path chunks\n",
      "elim category url /travel/article/chaise-longue-double-level-airplane-seat-returns/index.html for >1 path chunks or size path chunks\n",
      "elim category url /travel/article/asia-begpackers-intl-hnk/index.html for >1 path chunks or size path chunks\n",
      "elim category url /travel/article/grace-dvornik-superyacht-private-jet-chef/index.html for >1 path chunks or size path chunks\n",
      "elim category url /travel/article/best-nude-beaches-world/index.html for >1 path chunks or size path chunks\n",
      "elim category url /travel/article/dubai-jumeirah-bay-island-sand-plot/index.html for >1 path chunks or size path chunks\n",
      "elim category url /2023/06/07/sport/rio-waida-surfing-indonesia-spt-intl/index.html for >1 path chunks or size path chunks\n",
      "elim category url /2023/06/07/sport/rio-waida-surfing-indonesia-spt-intl/index.html for >1 path chunks or size path chunks\n",
      "elim category url /2023/06/04/football/oleksandr-zinchenko-andriy-shevchenko-ukraine-spt-intl/index.html for >1 path chunks or size path chunks\n",
      "elim category url /2023/06/04/tennis/novak-djokovic-juan-pablo-varillas-french-open-spt-intl/index.html for >1 path chunks or size path chunks\n",
      "elim category url /2023/06/04/motorsport/lewis-hamilton-mercedes-spanish-grand-prix-spt-intl/index.html for >1 path chunks or size path chunks\n",
      "elim category url /2023/06/03/football/barcelona-wolfsburg-womens-champions-league-final-spt-intl/index.html for >1 path chunks or size path chunks\n",
      "elim category url /style/terry-oneill-faye-dunaway-snap/index.html for >1 path chunks or size path chunks\n",
      "elim category url /style/terry-oneill-faye-dunaway-snap/index.html for >1 path chunks or size path chunks\n",
      "elim category url /2023/06/01/style/freddie-mercury-bohemian-rhapsody-mongolian-lyrics/index.html for >1 path chunks or size path chunks\n",
      "elim category url /videos/style/2023/06/01/mattel-barbie-doll-margot-robbie-cprog-orig-gr-md.cnn for >1 path chunks or size path chunks\n",
      "elim category url /style/article/looted-artifacts-italy-returned-intl-scli/index.html for >1 path chunks or size path chunks\n",
      "elim category url /style/article/american-born-chinese-costume-design-hyphenated-cec/index.html for >1 path chunks or size path chunks\n",
      "elim category url /2023/05/08/opinions/covid-19-end-of-public-health-emergency-sepkowitz/index.html for >1 path chunks or size path chunks\n",
      "elim category url /2023/05/08/opinions/covid-19-end-of-public-health-emergency-sepkowitz/index.html for >1 path chunks or size path chunks\n",
      "elim category url /2023/05/07/opinions/charles-coronation-britain-patriotism-racism-magee/index.html for >1 path chunks or size path chunks\n",
      "elim category url /2023/05/07/opinions/putin-anxious-time-opinion-column-galant/index.html for >1 path chunks or size path chunks\n",
      "elim category url /2023/05/06/opinions/sudan-conflict-us-response-eisa/index.html for >1 path chunks or size path chunks\n",
      "elim category url /2023/05/06/opinions/equal-rights-amendment-equality-impossible-bianco/index.html for >1 path chunks or size path chunks\n",
      "elim category url /2023/05/05/opinions/presidential-debates-have-lost-their-luster-zelizer/index.html for >1 path chunks or size path chunks\n",
      "elim category url /2023/06/04/politics/nikki-haley-cnn-town-hall-takeaways/index.html for >1 path chunks or size path chunks\n",
      "elim category url /2023/06/04/politics/nikki-haley-cnn-town-hall-takeaways/index.html for >1 path chunks or size path chunks\n",
      "elim category url /2023/06/01/politics/student-loan-forgiveness-biden-senate-vote/index.html for >1 path chunks or size path chunks\n",
      "elim category url /2023/06/01/politics/ron-desantis-fauci-trump-covid-kfile/index.html for >1 path chunks or size path chunks\n",
      "elim category url /2023/06/01/politics/sudan-sanctions-biden-administration/index.html for >1 path chunks or size path chunks\n",
      "elim category url /2023/06/01/politics/oath-keepers-roberto-minuta-sentencing/index.html for >1 path chunks or size path chunks\n",
      "elim category url /2023/06/09/world/crocodile-virgin-birth-parthenogenesis-scn/index.html for >1 path chunks or size path chunks\n",
      "elim category url /2023/06/09/world/crocodile-virgin-birth-parthenogenesis-scn/index.html for >1 path chunks or size path chunks\n",
      "elim category url /2023/06/09/health/sargassum-seaweed-blob-flesh-eating-bacteria-scn-wellness/index.html for >1 path chunks or size path chunks\n",
      "elim category url /2023/06/08/world/astronaut-brain-ventricle-study-scn/index.html for >1 path chunks or size path chunks\n",
      "elim category url /2023/06/07/world/north-american-dinosaur-iani-smithi-scn/index.html for >1 path chunks or size path chunks\n",
      "elim category url /2023/06/07/health/insomnia-stroke-risk-wellness/index.html for >1 path chunks or size path chunks\n",
      "elim category url /2023/06/08/cars/gm-tesla-charging/index.html for >1 path chunks or size path chunks\n",
      "elim category url /2023/06/08/cars/gm-tesla-charging/index.html for >1 path chunks or size path chunks\n",
      "elim category url /2023/06/08/tech/ai-image-detection/index.html for >1 path chunks or size path chunks\n",
      "elim category url /2023/06/08/tech/tiktok-data-china/index.html for >1 path chunks or size path chunks\n",
      "elim category url /2023/06/08/tech/meta-eu-csam/index.html for >1 path chunks or size path chunks\n",
      "elim category url /2023/06/08/investing/coinbase-ceo-sec-sues-crypto/index.html for >1 path chunks or size path chunks\n",
      "elim category url /style/gallery/bird-planet-tim-laman-c2e-hnk-spc-intl/index.html for >1 path chunks or size path chunks\n",
      "elim category url /style/gallery/bird-planet-tim-laman-c2e-hnk-spc-intl/index.html for >1 path chunks or size path chunks\n",
      "elim category url /2023/02/20/world/gallery/2022-ocean-art-underwater-photography-c2e-spc-scn/index.html for >1 path chunks or size path chunks\n",
      "elim category url /2023/02/20/world/gallery/2022-ocean-art-underwater-photography-c2e-spc-scn/index.html for >1 path chunks or size path chunks\n",
      "elim category url /travel/gallery/airbus-rolls-royce-green-aircraft-c2e-spc-int/index.html for >1 path chunks or size path chunks\n",
      "elim category url /travel/gallery/airbus-rolls-royce-green-aircraft-c2e-spc-int/index.html for >1 path chunks or size path chunks\n",
      "elim category url /2023/05/02/world/gallery/sand-cat-photo-c2e-spc-intl-scn/index.html for >1 path chunks or size path chunks\n",
      "elim category url /2023/05/02/world/gallery/sand-cat-photo-c2e-spc-intl-scn/index.html for >1 path chunks or size path chunks\n",
      "elim category url /style/gallery/flood-resilient-buildings-spc-intl-c2e/index.html for >1 path chunks or size path chunks\n",
      "elim category url /style/gallery/flood-resilient-buildings-spc-intl-c2e/index.html for >1 path chunks or size path chunks\n",
      "elim category url /travel/gallery/ellinikon-athens-coastal-park-c2e-spc-intl/index.html for >1 path chunks or size path chunks\n",
      "elim category url /travel/gallery/ellinikon-athens-coastal-park-c2e-spc-intl/index.html for >1 path chunks or size path chunks\n",
      "elim category url /2023/05/21/africa/west-africa-benin-used-cars-climate-intl/index.html for >1 path chunks or size path chunks\n",
      "elim category url /2023/05/21/africa/west-africa-benin-used-cars-climate-intl/index.html for >1 path chunks or size path chunks\n",
      "elim category url /2020/09/28/health/sexual-desire-older-women-study-wellness/index.html for >1 path chunks or size path chunks\n",
      "elim category url /2023/05/24/australia/australia-95-year-old-woman-tasered-charges-intl-hnk/index.html for >1 path chunks or size path chunks\n",
      "elim category url /2023/05/15/australia/teacher-shark-attack-australia-hnk-intl/index.html for >1 path chunks or size path chunks\n",
      "elim category url /2023/05/19/world/mosquito-human-body-odor-malaria-scn/index.html for >1 path chunks or size path chunks\n",
      "elim category url /videos/world/2023/05/24/india-narendra-modi-australia-visit-lon-orig-contd-mg.cnn for >1 path chunks or size path chunks\n",
      "elim category url /2023/05/23/europe/russia-minister-dies-falling-ill-on-plane-intl/index.html for >1 path chunks or size path chunks\n",
      "elim category url /2023/05/22/entertainment/jeff-bezos-lauren-sanchez-engaged/index.html for >1 path chunks or size path chunks\n",
      "elim category url /2023/05/22/health/what-is-bmi-wellness/index.html for >1 path chunks or size path chunks\n",
      "elim category url /travel/article/china-shenzhen-zhongshan-bridge-intl-hnk/index.html for >1 path chunks or size path chunks\n",
      "elim category url /account/settings for >1 path chunks or size path chunks\n",
      "elim category url /account/my-news?iid=fw_var-nav for >1 path chunks or size path chunks\n",
      "elim category url # path starts with #\n",
      "elim category url # path starts with #\n",
      "elim category url https://bleacherreport.com/nhl for domain mismatch\n",
      "elim category url https://careers.wbd.com/cnnjobs for domain mismatch\n",
      "elim category url https://facebook.com/CNN for domain mismatch\n",
      "elim category url https://twitter.com/CNN for domain mismatch\n",
      "elim category url https://instagram.com/CNN for domain mismatch\n",
      "elim category url /account/settings for >1 path chunks or size path chunks\n",
      "elim category url /account/my-news?iid=fw_var-nav for >1 path chunks or size path chunks\n",
      "elim category url # path starts with #\n",
      "elim category url # path starts with #\n",
      "elim category url # path starts with #\n",
      "elim category url https://warnermediaprivacy.com/policycenter/b2c/WMNS for domain mismatch\n"
     ]
    }
   ],
   "source": [
    "bb_paper = newspaper.build('https://cnn.com', verbose = True)"
   ]
  },
  {
   "cell_type": "code",
   "execution_count": 3,
   "id": "7b3a1349-9785-4ebd-9e0e-89fdbc72a592",
   "metadata": {
    "tags": []
   },
   "outputs": [],
   "source": [
    "bb_paper.download()"
   ]
  },
  {
   "cell_type": "code",
   "execution_count": 4,
   "id": "95724297-1d81-4adc-b68d-bd691c30d504",
   "metadata": {
    "tags": []
   },
   "outputs": [],
   "source": [
    "searchterm = 'Tesla'\n",
    "results = list()\n",
    "nonresults = list()"
   ]
  },
  {
   "cell_type": "code",
   "execution_count": 5,
   "id": "8799cb13-22b8-4faf-b5fa-4aedada3765e",
   "metadata": {
    "tags": []
   },
   "outputs": [],
   "source": [
    "for article in bb_paper.articles:\n",
    "    if searchterm in article.text:\n",
    "        results.append(article.title)\n",
    "    else:\n",
    "        nonresults.append(article.title)"
   ]
  },
  {
   "cell_type": "code",
   "execution_count": 6,
   "id": "aab3e215-9b9f-4b56-986a-d67524a3a595",
   "metadata": {
    "tags": []
   },
   "outputs": [
    {
     "data": {
      "text/plain": [
       "452"
      ]
     },
     "execution_count": 6,
     "metadata": {},
     "output_type": "execute_result"
    }
   ],
   "source": [
    "len(nonresults)"
   ]
  },
  {
   "cell_type": "code",
   "execution_count": 7,
   "id": "9000f19b-2ba3-40d6-94c6-1951e5ed3318",
   "metadata": {
    "tags": []
   },
   "outputs": [
    {
     "data": {
      "text/plain": [
       "452"
      ]
     },
     "execution_count": 7,
     "metadata": {},
     "output_type": "execute_result"
    }
   ],
   "source": [
    "len(bb_paper.articles)"
   ]
  },
  {
   "cell_type": "code",
   "execution_count": 9,
   "id": "b63ebc44-8ace-4bd1-8e52-7eec4eaf0ef9",
   "metadata": {
    "tags": []
   },
   "outputs": [
    {
     "data": {
      "text/plain": [
       "0"
      ]
     },
     "execution_count": 9,
     "metadata": {},
     "output_type": "execute_result"
    }
   ],
   "source": [
    "len(results)"
   ]
  },
  {
   "cell_type": "code",
   "execution_count": null,
   "id": "fd6c15c5-1fc0-4a50-98f5-85f7a588beaf",
   "metadata": {
    "tags": []
   },
   "outputs": [],
   "source": [
    "nonresults"
   ]
  },
  {
   "cell_type": "code",
   "execution_count": null,
   "id": "4180d2c4-a161-4193-9a48-032498b7a70b",
   "metadata": {},
   "outputs": [],
   "source": []
  }
 ],
 "metadata": {
  "kernelspec": {
   "display_name": "Python 3 (ipykernel)",
   "language": "python",
   "name": "python3"
  },
  "language_info": {
   "codemirror_mode": {
    "name": "ipython",
    "version": 3
   },
   "file_extension": ".py",
   "mimetype": "text/x-python",
   "name": "python",
   "nbconvert_exporter": "python",
   "pygments_lexer": "ipython3",
   "version": "3.11.3"
  }
 },
 "nbformat": 4,
 "nbformat_minor": 5
}
